{
 "cells": [
  {
   "cell_type": "code",
   "execution_count": null,
   "id": "b053c48c-d731-4e53-b97c-105503c34a37",
   "metadata": {},
   "outputs": [],
   "source": [
    "import pandas as pd\n",
    "from tqdm.notebook import tqdm_notebook\n",
    "\n",
    "tqdm_notebook.pandas()"
   ]
  },
  {
   "cell_type": "code",
   "execution_count": null,
   "id": "6336168c-dbb0-4ea6-9edc-c571713db7dc",
   "metadata": {},
   "outputs": [],
   "source": [
    "df = pd.read_parquet(\"temp_reuter_filtered.parquet\")"
   ]
  },
  {
   "cell_type": "code",
   "execution_count": null,
   "id": "36e717cb-2d34-4418-8f11-4916a0a20252",
   "metadata": {},
   "outputs": [],
   "source": [
    "from transformers import AutoTokenizer, AutoModelForCausalLM\n",
    "\n",
    "# init\n",
    "tokenizer = AutoTokenizer.from_pretrained(\"togethercomputer/Pythia-Chat-Base-7B-v0.16\")\n",
    "model = AutoModelForCausalLM.from_pretrained(\"togethercomputer/Pythia-Chat-Base-7B-v0.16\", device_map=\"auto\", load_in_8bit=True)"
   ]
  },
  {
   "cell_type": "code",
   "execution_count": null,
   "id": "2e078268-f79b-4386-898e-cbb084760b5b",
   "metadata": {},
   "outputs": [],
   "source": [
    "if tokenizer.pad_token is None:\n",
    "    tokenizer.pad_token = tokenizer.eos_token\n",
    "    model.config.pad_token_id = model.config.eos_token_id"
   ]
  },
  {
   "cell_type": "code",
   "execution_count": null,
   "id": "d0864dc9-54b3-443a-b931-11f8c20f71b4",
   "metadata": {},
   "outputs": [],
   "source": [
    "template = \"\"\" Given the following news, output 0 if the ESG impact duration is below 2 years, 1 if the ESG impact duration is between 2 and 5 year and 2 if the ESG impact duration is more than 5 years.  If it's not applicable, output -1. You only need to output the number, and do not need any further explanation.\n",
    "\n",
    "Example:\n",
    "\"EU Regulators Welcome, Critique New European Sustainability Reporting Standards || Europe’s three primary financial regulatory agencies, the European Supervisory Authorities (ESAs) each announced the release of their opinions on the first set of draft European Sustainability Reporting Standards, which set out the rules and requirements for companies to report on sustainability-related impacts, opportunities and risks under the EU’s upcoming Corporate Sustainable Reporting Directive (CSRD).\"\n",
    "0\n",
    "\"Red States Sue to Stop Biden Administration Rule Allowing ESG Investing in $12 Trillion of Retirement Plans || In a statement announcing the new action, Texas AG Ken Paxton, who is co-leading the lawsuit, said that the DOL’s rule will prioritize “woke” ESG investing over protecting the retirement savings of workers.\"\n",
    "1\n",
    "\"ArcelorMittal Leads $120 Million Capital Raise for Green Steel Startup Boston Metal || Brandon Middaugh, director, Microsoft Climate Innovation Fund, said: “Microsoft’s Climate Innovation Fund was created to accelerate technology development and deployment in areas that will have the most meaningful impact on climate. The technology Boston Metal is developing has the potential to deliver affordable green steel at scale, helping to drive cross-industry decarbonization, which is increasingly critical for companies with carbon reduction targets, such as Microsoft.”\"\n",
    "2\n",
    "\n",
    "Now predict: \"\"\""
   ]
  },
  {
   "cell_type": "code",
   "execution_count": null,
   "id": "806cab5c-4577-4b09-be80-89e96fd4e547",
   "metadata": {},
   "outputs": [],
   "source": [
    "def generate_pythia_model(sentence):\n",
    "  inputs = tokenizer(f\"<human>: {template + sentence} + \\n<bot>:\", return_tensors='pt').to(model.device)\n",
    "  outputs = model.generate(**inputs,\n",
    "                           max_new_tokens=2,\n",
    "                           do_sample=True,\n",
    "                           temperature=0.2)\n",
    "  output_str = tokenizer.decode(outputs[0])\n",
    "  bot_response = output_str.replace(\"\\n\", \"\").split(\"<bot>: \")[-1]\n",
    "\n",
    "  if \"-1\" in bot_response:\n",
    "    return -1\n",
    "  elif \"0\" in bot_response:\n",
    "    return 0\n",
    "  elif \"1\" in bot_response:\n",
    "    return 1\n",
    "  elif \"2\" in bot_response:\n",
    "    return 2\n",
    "  return None"
   ]
  },
  {
   "cell_type": "code",
   "execution_count": null,
   "id": "1cdfc013-03b4-4c4b-8329-3f87cc925948",
   "metadata": {},
   "outputs": [],
   "source": [
    "df[\"pythia_label\"] = df[\"text\"].progress_apply(generate_pythia_model)"
   ]
  },
  {
   "cell_type": "code",
   "execution_count": null,
   "id": "8f1e7880-cf08-4ae8-a5cc-219b8c8baea8",
   "metadata": {},
   "outputs": [],
   "source": [
    "df.groupby(\"pythia_label\")[\"pythia_label\"].count()"
   ]
  },
  {
   "cell_type": "code",
   "execution_count": null,
   "id": "e1600f14-04df-4420-b66e-8c936657e657",
   "metadata": {},
   "outputs": [],
   "source": [
    "df.to_parquet(\"reuter_pythia.parquet\")"
   ]
  }
 ],
 "metadata": {
  "kernelspec": {
   "display_name": "Python 3 (ipykernel)",
   "language": "python",
   "name": "python3"
  },
  "language_info": {
   "codemirror_mode": {
    "name": "ipython",
    "version": 3
   },
   "file_extension": ".py",
   "mimetype": "text/x-python",
   "name": "python",
   "nbconvert_exporter": "python",
   "pygments_lexer": "ipython3",
   "version": "3.10.12"
  }
 },
 "nbformat": 4,
 "nbformat_minor": 5
}
