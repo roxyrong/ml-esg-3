{
 "cells": [
  {
   "attachments": {},
   "cell_type": "markdown",
   "id": "a26d4c6cd630630f",
   "metadata": {
    "collapsed": false
   },
   "source": [
    "# Notebook - DeepL Translation"
   ]
  },
  {
   "cell_type": "code",
   "execution_count": 1,
   "id": "initial_id",
   "metadata": {
    "ExecuteTime": {
     "end_time": "2024-01-26T02:46:41.505666700Z",
     "start_time": "2024-01-26T02:46:40.590379900Z"
    },
    "collapsed": true
   },
   "outputs": [
    {
     "name": "stderr",
     "output_type": "stream",
     "text": [
      "F:\\Softwares\\Anaconda\\envs\\Data_Science\\lib\\site-packages\\numpy\\_distributor_init.py:30: UserWarning: loaded more than 1 DLL from .libs:\n",
      "F:\\Softwares\\Anaconda\\envs\\Data_Science\\lib\\site-packages\\numpy\\.libs\\libopenblas.FB5AE2TYXYH2IJRDKGDGQ3XBKLKTF43H.gfortran-win_amd64.dll\n",
      "F:\\Softwares\\Anaconda\\envs\\Data_Science\\lib\\site-packages\\numpy\\.libs\\libopenblas64__v0.3.21-gcc_10_3_0.dll\n",
      "  warnings.warn(\"loaded more than 1 DLL from .libs:\"\n"
     ]
    }
   ],
   "source": [
    "import os\n",
    "import pandas as pd\n",
    "import zhconv\n",
    "from tqdm import tqdm\n",
    "import time\n",
    "import deepl"
   ]
  },
  {
   "attachments": {},
   "cell_type": "markdown",
   "id": "14f8acdef24c6f7e",
   "metadata": {
    "collapsed": false
   },
   "source": [
    "### API Connection"
   ]
  },
  {
   "cell_type": "code",
   "execution_count": 35,
   "id": "23a1c1451bbcb81d",
   "metadata": {
    "ExecuteTime": {
     "end_time": "2024-01-25T14:07:14.435289300Z",
     "start_time": "2024-01-25T14:07:12.896545900Z"
    },
    "collapsed": false
   },
   "outputs": [
    {
     "name": "stdout",
     "output_type": "stream",
     "text": [
      "How are you?\n"
     ]
    }
   ],
   "source": [
    "auth_key = os.environ[\"DEEPL_TOKEN\"]\n",
    "translator = deepl.Translator(auth_key)\n",
    "result = translator.translate_text(\"你好\", target_lang=\"EN-US\")\n",
    "print(result.text)"
   ]
  },
  {
   "attachments": {},
   "cell_type": "markdown",
   "id": "cb0a3b2eaa77ae96",
   "metadata": {
    "collapsed": false
   },
   "source": [
    "### Import dataset"
   ]
  },
  {
   "cell_type": "code",
   "execution_count": 61,
   "id": "69578954a4179a9",
   "metadata": {
    "ExecuteTime": {
     "end_time": "2024-01-25T14:39:02.027230300Z",
     "start_time": "2024-01-25T14:39:01.399681600Z"
    },
    "collapsed": false
   },
   "outputs": [],
   "source": [
    "chn_dataset = pd.read_parquet(\"../dataset_latest/train_df_Chinese.parquet\")\n",
    "kor_dataset = pd.read_parquet(\"../dataset_latest/train_df_Korean.parquet\")\n",
    "fre_dataset = pd.read_parquet(\"../dataset_latest/train_df_French.parquet\")\n",
    "eng_dataset = pd.read_parquet(\"../dataset_latest/train_df.parquet\")\n",
    "del fre_dataset[\"sentence\"]\n",
    "del kor_dataset[\"sentence\"]\n",
    "del chn_dataset[\"sentence\"]\n",
    "chn_dataset[\"title_traditional\"] = chn_dataset[\"title\"]\n",
    "chn_dataset[\"content_traditional\"] = chn_dataset[\"content\"]\n",
    "chn_dataset[\"title\"] = chn_dataset[\"title\"].apply(lambda x: zhconv.convert(x, 'zh-hans'))\n",
    "chn_dataset[\"content\"] = chn_dataset[\"content\"].apply(lambda x: zhconv.convert(x, 'zh-hans'))"
   ]
  },
  {
   "attachments": {},
   "cell_type": "markdown",
   "id": "334fee4f7ee267e2",
   "metadata": {
    "collapsed": false
   },
   "source": [
    "### Data Cleaning"
   ]
  },
  {
   "cell_type": "code",
   "execution_count": 62,
   "id": "6b19ad18f8c8ceb",
   "metadata": {
    "ExecuteTime": {
     "end_time": "2024-01-25T14:39:02.862270400Z",
     "start_time": "2024-01-25T14:39:02.805170100Z"
    },
    "collapsed": false
   },
   "outputs": [],
   "source": [
    "# 1 Drop duplicates\n",
    "chn_dataset.drop_duplicates(inplace=True)\n",
    "kor_dataset.drop_duplicates(inplace=True)\n",
    "fre_dataset.drop_duplicates(inplace=True)\n",
    "eng_dataset.drop_duplicates(inplace=True)\n",
    "\n",
    "# 2 delete \"\\n\", strip text\n",
    "chn_dataset[\"title\"] = chn_dataset[\"title\"].apply(lambda x: x.replace(\"\\n\",\"\").strip())\n",
    "chn_dataset[\"title_traditional\"] = chn_dataset[\"title_traditional\"].apply(lambda x: x.replace(\"\\n\",\"\").strip())\n",
    "chn_dataset[\"content\"] = chn_dataset[\"content\"].apply(lambda x: x.replace(\"\\n\",\"\").strip())\n",
    "chn_dataset[\"content_traditional\"] = chn_dataset[\"content_traditional\"].apply(lambda x: x.replace(\"\\n\",\"\").strip())\n",
    "kor_dataset[\"title\"] = kor_dataset[\"title\"].apply(lambda x: x.replace(\"\\n\",\"\").strip())\n",
    "kor_dataset[\"content\"] = kor_dataset[\"content\"].apply(lambda x: x.replace(\"\\n\",\"\").strip())\n",
    "fre_dataset[\"title\"] = fre_dataset[\"title\"].apply(lambda x: x.replace(\"\\n\",\"\").strip())\n",
    "fre_dataset[\"content\"] = fre_dataset[\"content\"].apply(lambda x: x.replace(\"\\n\",\"\").strip())\n",
    "eng_dataset[\"title\"] = eng_dataset[\"title\"].apply(lambda x: x.replace(\"\\n\",\"\").strip())\n",
    "eng_dataset[\"content\"] = eng_dataset[\"content\"].apply(lambda x: x.replace(\"\\n\",\"\").strip())"
   ]
  },
  {
   "attachments": {},
   "cell_type": "markdown",
   "id": "384d651abc0ebbaf",
   "metadata": {
    "collapsed": false
   },
   "source": [
    "### Translations"
   ]
  },
  {
   "cell_type": "code",
   "execution_count": 27,
   "id": "51b6b145ad31113d",
   "metadata": {
    "ExecuteTime": {
     "end_time": "2024-01-25T13:36:31.595557300Z",
     "start_time": "2024-01-25T13:36:31.519420900Z"
    },
    "collapsed": false
   },
   "outputs": [],
   "source": [
    "# define an empty list\n",
    "translation_lst = []\n",
    "data_language = \"Korean\""
   ]
  },
  {
   "cell_type": "code",
   "execution_count": 28,
   "id": "a6088e5dae566fad",
   "metadata": {
    "ExecuteTime": {
     "end_time": "2024-01-25T13:36:32.522941Z",
     "start_time": "2024-01-25T13:36:32.502881Z"
    },
    "collapsed": false
   },
   "outputs": [],
   "source": [
    "if data_language == \"Chinese\":\n",
    "    translation_dataset = chn_dataset.copy()\n",
    "elif data_language == \"French\":\n",
    "    translation_dataset = fre_dataset.copy()\n",
    "elif data_language == \"Korean\":\n",
    "    translation_dataset = kor_dataset.copy()\n",
    "else:\n",
    "    translation_dataset = eng_dataset.copy()"
   ]
  },
  {
   "cell_type": "code",
   "execution_count": 42,
   "id": "60b34f5822a8d52",
   "metadata": {
    "ExecuteTime": {
     "end_time": "2024-01-25T14:23:45.976916800Z",
     "start_time": "2024-01-25T14:17:09.389609900Z"
    },
    "collapsed": false
   },
   "outputs": [
    {
     "name": "stderr",
     "output_type": "stream",
     "text": [
      "100%|██████████| 159/159 [06:36<00:00,  2.49s/it]\n"
     ]
    }
   ],
   "source": [
    "for i in tqdm(range(len(translation_lst), len(translation_dataset))):\n",
    "    \n",
    "    # title translation\n",
    "    title = str(translation_dataset.iloc[i]['title'])\n",
    "    title_value = translator.translate_text(title, target_lang=\"EN-US\").text\n",
    "    \n",
    "    # content translation\n",
    "    content = str(translation_dataset.iloc[i]['content'])\n",
    "    content_value = translator.translate_text(content, target_lang=\"EN-US\").text\n",
    "    \n",
    "    # append to translation list\n",
    "    translation_lst.append([title_value, content_value])\n",
    "    \n",
    "    # slow down the speed\n",
    "    time.sleep(1)"
   ]
  },
  {
   "cell_type": "code",
   "execution_count": 43,
   "id": "486012ec5fd44ecf",
   "metadata": {
    "ExecuteTime": {
     "end_time": "2024-01-25T14:24:00.747756700Z",
     "start_time": "2024-01-25T14:24:00.143074Z"
    },
    "collapsed": false
   },
   "outputs": [],
   "source": [
    "translation_dataset[\"translation\"] = translation_lst\n",
    "translation_dataset[\"title_eng\"] = translation_dataset[\"translation\"]\n",
    "translation_dataset[\"content_eng\"] = translation_dataset[\"translation\"].apply(lambda x: x[1])\n",
    "# save to local disk\n",
    "translation_dataset.to_parquet(\"../dataset_latest/Translation_\"+data_language+\"_Dataset.parquet\")"
   ]
  },
  {
   "cell_type": "code",
   "execution_count": 63,
   "id": "4bd3a4357814b8b",
   "metadata": {
    "ExecuteTime": {
     "end_time": "2024-01-25T14:39:07.527154300Z",
     "start_time": "2024-01-25T14:39:07.103190700Z"
    },
    "collapsed": false
   },
   "outputs": [],
   "source": [
    "eng_dataset[\"title_eng\"] = eng_dataset[\"title\"]\n",
    "eng_dataset[\"content_eng\"] = eng_dataset[\"content\"]\n",
    "eng_dataset.to_parquet(\"../dataset_latest/Translation_\"+\"English\"+\"_Dataset.parquet\")"
   ]
  },
  {
   "attachments": {},
   "cell_type": "markdown",
   "id": "92ac8bc9231cc64a",
   "metadata": {
    "collapsed": false
   },
   "source": [
    "### Load Translation Dataset"
   ]
  },
  {
   "cell_type": "code",
   "execution_count": 6,
   "id": "f924cea46c5e1c37",
   "metadata": {
    "ExecuteTime": {
     "end_time": "2024-01-26T02:47:36.989338700Z",
     "start_time": "2024-01-26T02:47:36.416683600Z"
    },
    "collapsed": false
   },
   "outputs": [],
   "source": [
    "trans_eng = pd.read_parquet(\"../dataset_latest/Translation_English_Dataset.parquet\")\n",
    "trans_chn = pd.read_parquet(\"../dataset_latest/Translation_Chinese_Dataset.parquet\")\n",
    "trans_kor = pd.read_parquet(\"../dataset_latest/Translation_Korean_Dataset.parquet\")\n",
    "trans_fre = pd.read_parquet(\"../dataset_latest/Translation_French_Dataset.parquet\")"
   ]
  },
  {
   "cell_type": "code",
   "execution_count": 7,
   "id": "849655186cc9c5b5",
   "metadata": {
    "ExecuteTime": {
     "end_time": "2024-01-26T02:47:37.585862100Z",
     "start_time": "2024-01-26T02:47:37.540349Z"
    },
    "collapsed": false
   },
   "outputs": [],
   "source": [
    "trans_eng = trans_eng[[\"url\", \"title\", \"content\", \"impact_length_idx\", \"language\", \"title_eng\", \"content_eng\"]]\n",
    "trans_chn = trans_chn[[\"url\", \"title\", \"content\", \"impact_length_idx\", \"language\", \"title_eng\", \"content_eng\"]]\n",
    "trans_kor = trans_kor[[\"url\", \"title\", \"content\", \"impact_length_idx\", \"language\", \"title_eng\", \"content_eng\"]]\n",
    "trans_fre = trans_fre[[\"url\", \"title\", \"content\", \"impact_length_idx\", \"language\", \"title_eng\", \"content_eng\"]]\n",
    "trans_eng = trans_eng.loc[trans_eng[\"language\"]==\"English\"]"
   ]
  },
  {
   "cell_type": "code",
   "execution_count": 8,
   "id": "e232c04113edaef4",
   "metadata": {
    "ExecuteTime": {
     "end_time": "2024-01-26T02:47:40.537317100Z",
     "start_time": "2024-01-26T02:47:40.015879500Z"
    },
    "collapsed": false
   },
   "outputs": [],
   "source": [
    "df = pd.concat([trans_eng,trans_chn,trans_kor,trans_fre])\n",
    "df.to_parquet(\"../dataset_latest/Translation_Dataset.parquet\")"
   ]
  },
  {
   "cell_type": "code",
   "execution_count": 9,
   "id": "1e488113de1720af",
   "metadata": {
    "ExecuteTime": {
     "end_time": "2024-01-26T02:47:43.971291300Z",
     "start_time": "2024-01-26T02:47:43.820249300Z"
    },
    "collapsed": false
   },
   "outputs": [
    {
     "data": {
      "text/html": [
       "<div>\n",
       "<style scoped>\n",
       "    .dataframe tbody tr th:only-of-type {\n",
       "        vertical-align: middle;\n",
       "    }\n",
       "\n",
       "    .dataframe tbody tr th {\n",
       "        vertical-align: top;\n",
       "    }\n",
       "\n",
       "    .dataframe thead th {\n",
       "        text-align: right;\n",
       "    }\n",
       "</style>\n",
       "<table border=\"1\" class=\"dataframe\">\n",
       "  <thead>\n",
       "    <tr style=\"text-align: right;\">\n",
       "      <th></th>\n",
       "      <th>url</th>\n",
       "      <th>title</th>\n",
       "      <th>content</th>\n",
       "      <th>impact_length_idx</th>\n",
       "      <th>language</th>\n",
       "      <th>title_eng</th>\n",
       "      <th>content_eng</th>\n",
       "    </tr>\n",
       "  </thead>\n",
       "  <tbody>\n",
       "    <tr>\n",
       "      <th>0</th>\n",
       "      <td>https://www.esgtoday.com/arabesque-ai-appoints...</td>\n",
       "      <td>Arabesque AI Appoints Carolina Minio Paluello ...</td>\n",
       "      <td>ESG-focused financial technology company Arabe...</td>\n",
       "      <td>1.0</td>\n",
       "      <td>English</td>\n",
       "      <td>Arabesque AI Appoints Carolina Minio Paluello ...</td>\n",
       "      <td>ESG-focused financial technology company Arabe...</td>\n",
       "    </tr>\n",
       "    <tr>\n",
       "      <th>1</th>\n",
       "      <td>https://www.esgtoday.com/arabesque-ai-appoints...</td>\n",
       "      <td>Arabesque AI Appoints Carolina Minio Paluello ...</td>\n",
       "      <td>The company also announced the appointment of ...</td>\n",
       "      <td>1.0</td>\n",
       "      <td>English</td>\n",
       "      <td>Arabesque AI Appoints Carolina Minio Paluello ...</td>\n",
       "      <td>The company also announced the appointment of ...</td>\n",
       "    </tr>\n",
       "    <tr>\n",
       "      <th>2</th>\n",
       "      <td>https://www.esgtoday.com/arabesque-ai-appoints...</td>\n",
       "      <td>Arabesque AI Appoints Carolina Minio Paluello ...</td>\n",
       "      <td>Wong said:  “Personalised portfolios demand th...</td>\n",
       "      <td>1.0</td>\n",
       "      <td>English</td>\n",
       "      <td>Arabesque AI Appoints Carolina Minio Paluello ...</td>\n",
       "      <td>Wong said:  “Personalised portfolios demand th...</td>\n",
       "    </tr>\n",
       "    <tr>\n",
       "      <th>3</th>\n",
       "      <td>https://www.esgtoday.com/ukraine-war-inflation...</td>\n",
       "      <td>Ukraine War, Inflation Reduction Act Driving F...</td>\n",
       "      <td>One of the key themes of the report is the imp...</td>\n",
       "      <td>2.0</td>\n",
       "      <td>English</td>\n",
       "      <td>Ukraine War, Inflation Reduction Act Driving F...</td>\n",
       "      <td>One of the key themes of the report is the imp...</td>\n",
       "    </tr>\n",
       "    <tr>\n",
       "      <th>4</th>\n",
       "      <td>https://www.esgtoday.com/eu-regulators-welcome...</td>\n",
       "      <td>EU Regulators Welcome, Critique New European S...</td>\n",
       "      <td>Europe’s three primary financial regulatory ag...</td>\n",
       "      <td>0.0</td>\n",
       "      <td>English</td>\n",
       "      <td>EU Regulators Welcome, Critique New European S...</td>\n",
       "      <td>Europe’s three primary financial regulatory ag...</td>\n",
       "    </tr>\n",
       "    <tr>\n",
       "      <th>...</th>\n",
       "      <td>...</td>\n",
       "      <td>...</td>\n",
       "      <td>...</td>\n",
       "      <td>...</td>\n",
       "      <td>...</td>\n",
       "      <td>...</td>\n",
       "      <td>...</td>\n",
       "    </tr>\n",
       "    <tr>\n",
       "      <th>540</th>\n",
       "      <td>https://www.esgtoday.com/methane-emissions-det...</td>\n",
       "      <td>Methane Emissions Detection Platform Kuva Rais...</td>\n",
       "      <td>Stefan Bokaemper, CEO of Kuva Systems, said: “...</td>\n",
       "      <td>1.0</td>\n",
       "      <td>English</td>\n",
       "      <td>Methane Emissions Detection Platform Kuva Rais...</td>\n",
       "      <td>Stefan Bokaemper, CEO of Kuva Systems, said: “...</td>\n",
       "    </tr>\n",
       "    <tr>\n",
       "      <th>541</th>\n",
       "      <td>https://www.esgtoday.com/eaton-appoints-harold...</td>\n",
       "      <td>Eaton Appoints Harold Jones as Chief Sustainab...</td>\n",
       "      <td>Eaton Appoints Harold Jones as Chief Sustainab...</td>\n",
       "      <td>1.0</td>\n",
       "      <td>English</td>\n",
       "      <td>Eaton Appoints Harold Jones as Chief Sustainab...</td>\n",
       "      <td>Eaton Appoints Harold Jones as Chief Sustainab...</td>\n",
       "    </tr>\n",
       "    <tr>\n",
       "      <th>542</th>\n",
       "      <td>https://www.esgtoday.com/ssga-outlines-2021-st...</td>\n",
       "      <td>SSGA Outlines 2021 Stewardship Priorities, Wil...</td>\n",
       "      <td>In his letter, Taraporevala wrote: “As a signa...</td>\n",
       "      <td>0.0</td>\n",
       "      <td>English</td>\n",
       "      <td>SSGA Outlines 2021 Stewardship Priorities, Wil...</td>\n",
       "      <td>In his letter, Taraporevala wrote: “As a signa...</td>\n",
       "    </tr>\n",
       "    <tr>\n",
       "      <th>543</th>\n",
       "      <td>https://www.esgtoday.com/survey-investors-shif...</td>\n",
       "      <td>Survey: Investors Shifting to Offense on Clima...</td>\n",
       "      <td>O’Brien said: “Investors globally are increasi...</td>\n",
       "      <td>0.0</td>\n",
       "      <td>English</td>\n",
       "      <td>Survey: Investors Shifting to Offense on Clima...</td>\n",
       "      <td>O’Brien said: “Investors globally are increasi...</td>\n",
       "    </tr>\n",
       "    <tr>\n",
       "      <th>544</th>\n",
       "      <td>https://www.esgtoday.com/chicago-to-transition...</td>\n",
       "      <td>Chicago to Transition Buildings, Airports &amp; Op...</td>\n",
       "      <td>Jim McHugh, Chief Commercial Officer, Constell...</td>\n",
       "      <td>1.0</td>\n",
       "      <td>English</td>\n",
       "      <td>Chicago to Transition Buildings, Airports &amp; Op...</td>\n",
       "      <td>Jim McHugh, Chief Commercial Officer, Constell...</td>\n",
       "    </tr>\n",
       "  </tbody>\n",
       "</table>\n",
       "<p>545 rows × 7 columns</p>\n",
       "</div>"
      ],
      "text/plain": [
       "                                                   url  \\\n",
       "0    https://www.esgtoday.com/arabesque-ai-appoints...   \n",
       "1    https://www.esgtoday.com/arabesque-ai-appoints...   \n",
       "2    https://www.esgtoday.com/arabesque-ai-appoints...   \n",
       "3    https://www.esgtoday.com/ukraine-war-inflation...   \n",
       "4    https://www.esgtoday.com/eu-regulators-welcome...   \n",
       "..                                                 ...   \n",
       "540  https://www.esgtoday.com/methane-emissions-det...   \n",
       "541  https://www.esgtoday.com/eaton-appoints-harold...   \n",
       "542  https://www.esgtoday.com/ssga-outlines-2021-st...   \n",
       "543  https://www.esgtoday.com/survey-investors-shif...   \n",
       "544  https://www.esgtoday.com/chicago-to-transition...   \n",
       "\n",
       "                                                 title  \\\n",
       "0    Arabesque AI Appoints Carolina Minio Paluello ...   \n",
       "1    Arabesque AI Appoints Carolina Minio Paluello ...   \n",
       "2    Arabesque AI Appoints Carolina Minio Paluello ...   \n",
       "3    Ukraine War, Inflation Reduction Act Driving F...   \n",
       "4    EU Regulators Welcome, Critique New European S...   \n",
       "..                                                 ...   \n",
       "540  Methane Emissions Detection Platform Kuva Rais...   \n",
       "541  Eaton Appoints Harold Jones as Chief Sustainab...   \n",
       "542  SSGA Outlines 2021 Stewardship Priorities, Wil...   \n",
       "543  Survey: Investors Shifting to Offense on Clima...   \n",
       "544  Chicago to Transition Buildings, Airports & Op...   \n",
       "\n",
       "                                               content  impact_length_idx  \\\n",
       "0    ESG-focused financial technology company Arabe...                1.0   \n",
       "1    The company also announced the appointment of ...                1.0   \n",
       "2    Wong said:  “Personalised portfolios demand th...                1.0   \n",
       "3    One of the key themes of the report is the imp...                2.0   \n",
       "4    Europe’s three primary financial regulatory ag...                0.0   \n",
       "..                                                 ...                ...   \n",
       "540  Stefan Bokaemper, CEO of Kuva Systems, said: “...                1.0   \n",
       "541  Eaton Appoints Harold Jones as Chief Sustainab...                1.0   \n",
       "542  In his letter, Taraporevala wrote: “As a signa...                0.0   \n",
       "543  O’Brien said: “Investors globally are increasi...                0.0   \n",
       "544  Jim McHugh, Chief Commercial Officer, Constell...                1.0   \n",
       "\n",
       "    language                                          title_eng  \\\n",
       "0    English  Arabesque AI Appoints Carolina Minio Paluello ...   \n",
       "1    English  Arabesque AI Appoints Carolina Minio Paluello ...   \n",
       "2    English  Arabesque AI Appoints Carolina Minio Paluello ...   \n",
       "3    English  Ukraine War, Inflation Reduction Act Driving F...   \n",
       "4    English  EU Regulators Welcome, Critique New European S...   \n",
       "..       ...                                                ...   \n",
       "540  English  Methane Emissions Detection Platform Kuva Rais...   \n",
       "541  English  Eaton Appoints Harold Jones as Chief Sustainab...   \n",
       "542  English  SSGA Outlines 2021 Stewardship Priorities, Wil...   \n",
       "543  English  Survey: Investors Shifting to Offense on Clima...   \n",
       "544  English  Chicago to Transition Buildings, Airports & Op...   \n",
       "\n",
       "                                           content_eng  \n",
       "0    ESG-focused financial technology company Arabe...  \n",
       "1    The company also announced the appointment of ...  \n",
       "2    Wong said:  “Personalised portfolios demand th...  \n",
       "3    One of the key themes of the report is the imp...  \n",
       "4    Europe’s three primary financial regulatory ag...  \n",
       "..                                                 ...  \n",
       "540  Stefan Bokaemper, CEO of Kuva Systems, said: “...  \n",
       "541  Eaton Appoints Harold Jones as Chief Sustainab...  \n",
       "542  In his letter, Taraporevala wrote: “As a signa...  \n",
       "543  O’Brien said: “Investors globally are increasi...  \n",
       "544  Jim McHugh, Chief Commercial Officer, Constell...  \n",
       "\n",
       "[545 rows x 7 columns]"
      ]
     },
     "execution_count": 9,
     "metadata": {},
     "output_type": "execute_result"
    }
   ],
   "source": [
    "trans_eng\n",
    "\n"
   ]
  },
  {
   "cell_type": "code",
   "execution_count": null,
   "id": "9ab1596d535c4569",
   "metadata": {
    "collapsed": false
   },
   "outputs": [],
   "source": []
  }
 ],
 "metadata": {
  "kernelspec": {
   "display_name": "Python 3",
   "language": "python",
   "name": "python3"
  },
  "language_info": {
   "codemirror_mode": {
    "name": "ipython",
    "version": 2
   },
   "file_extension": ".py",
   "mimetype": "text/x-python",
   "name": "python",
   "nbconvert_exporter": "python",
   "pygments_lexer": "ipython2",
   "version": "2.7.6"
  }
 },
 "nbformat": 4,
 "nbformat_minor": 5
}
