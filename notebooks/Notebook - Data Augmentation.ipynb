{
 "cells": [
  {
   "attachments": {},
   "cell_type": "markdown",
   "metadata": {},
   "source": [
    "# Notebook - Data Augmentation"
   ]
  },
  {
   "cell_type": "code",
   "execution_count": null,
   "metadata": {},
   "outputs": [],
   "source": [
    "from openai import OpenAI\n",
    "import pandas as pd\n",
    "\n",
    "client = OpenAI()"
   ]
  },
  {
   "cell_type": "code",
   "execution_count": null,
   "metadata": {},
   "outputs": [],
   "source": [
    "data_df = pd.read_parquet(\"../dataset/train_df_all_english.parquet\")"
   ]
  },
  {
   "cell_type": "code",
   "execution_count": null,
   "metadata": {},
   "outputs": [],
   "source": [
    "data_df.groupby(\"impact_length_idx\").head(5).sort_values(\"impact_length_idx\")"
   ]
  },
  {
   "cell_type": "code",
   "execution_count": null,
   "metadata": {},
   "outputs": [],
   "source": [
    "data_augmentation_dict = {\n",
    "    \"less than 2 years\": [data_df.loc[4][\"Translation\"], data_df.loc[19][\"Translation\"]],\n",
    "    \"between 2 and 5 years\": [data_df.loc[7][\"Translation\"], data_df.loc[11][\"Translation\"]],\n",
    "    \"more than 5 years\": [data_df.loc[6][\"Translation\"], data_df.loc[8][\"Translation\"]]\n",
    "}"
   ]
  },
  {
   "cell_type": "code",
   "execution_count": null,
   "metadata": {},
   "outputs": [],
   "source": [
    "data_augmentation_messages = []\n",
    "\n",
    "repeat_n = 2 # call api 2 more times\n",
    "\n",
    "for impact_duration, text_list in data_augmentation_dict.items():\n",
    "\n",
    "    template = f\"\"\"Give 10 examples of real news related to ESG (Environmental, Social, Governance) that has an impact duration {impact_duration}. Each example should have a news title and news summary, connected with \"||\". Generate these examples in english language. Two example news:\n",
    "\n",
    "    \"{text_list[0]}\"\n",
    "    \n",
    "    \"{text_list[1]}\"\n",
    "    \n",
    "    The output should only contain a numbered list of news.\n",
    "    \n",
    "    \"\"\"\n",
    "    \n",
    "    conversation = [\n",
    "            {\"role\": \"system\", \"content\": \"You are an ESG analyst, skilled assessing the level and duration an event in the news article might have on the company\"},\n",
    "            {\"role\": \"user\", \"content\": template}\n",
    "        ]\n",
    "    \n",
    "    print(template)\n",
    "    \n",
    "    completion = client.chat.completions.create(\n",
    "        model=\"gpt-4\",\n",
    "        messages=conversation\n",
    "    )\n",
    "    \n",
    "    message = completion.choices[0].message.content\n",
    "    \n",
    "    print(message)\n",
    "    \n",
    "    data_augmentation_messages.append(message)\n",
    "    \n",
    "    for i in range(repeat_n):\n",
    "        assitant_message = {\"role\": \"assistant\", \"content\": message}\n",
    "        new_user_message = {\"role\": \"user\", \"content\": \"Give me 10 more real examples.\"}\n",
    "        \n",
    "        conversation.append(assitant_message)\n",
    "        conversation.append(new_user_message)\n",
    "        \n",
    "        completion = client.chat.completions.create(\n",
    "            model=\"gpt-4\",\n",
    "            messages=conversation\n",
    "        )\n",
    "        \n",
    "        message = completion.choices[0].message.content\n",
    "    \n",
    "        print(message)\n",
    "    \n",
    "        data_augmentation_messages.append(message)\n"
   ]
  },
  {
   "cell_type": "code",
   "execution_count": null,
   "metadata": {},
   "outputs": [],
   "source": [
    "augmented_dataframes = []\n",
    "\n",
    "for idx, response in enumerate(data_augmentation_messages):\n",
    "    augmented_news_list = response.split(\"\\n\\n\")\n",
    "    augmented_news_list = [i.split(\". \", maxsplit=1)[1] for i in augmented_news_list]\n",
    "    \n",
    "    augmented_df = pd.DataFrame(augmented_news_list, columns=[\"sentence\"])\n",
    "    augmented_df[\"impact_length_idx\"] = idx // 3\n",
    "    \n",
    "    augmented_dataframes.append(augmented_df)\n",
    "    \n",
    "augmented_df = pd.concat(augmented_dataframes).reset_index(drop=True)"
   ]
  },
  {
   "cell_type": "code",
   "execution_count": null,
   "metadata": {},
   "outputs": [],
   "source": [
    "augmented_df[\"url\"] = \"ChatGPT augmented with Bing Search\"\n",
    "augmented_df[[\"title\", \"content\"]] = augmented_df[\"sentence\"].str.split(\" \\|\\| \", expand=True)\n",
    "augmented_df[\"language\"] = \"English\""
   ]
  },
  {
   "cell_type": "code",
   "execution_count": null,
   "metadata": {},
   "outputs": [],
   "source": [
    "augmented_df"
   ]
  },
  {
   "cell_type": "code",
   "execution_count": null,
   "metadata": {},
   "outputs": [],
   "source": [
    "augmented_df.to_parquet(\"../dataset/train_df_English_augmented.parquet\")"
   ]
  },
  {
   "attachments": {},
   "cell_type": "markdown",
   "metadata": {},
   "source": [
    "# Use the Augmented df and relabel to ensure data quality"
   ]
  },
  {
   "cell_type": "code",
   "execution_count": null,
   "metadata": {},
   "outputs": [],
   "source": [
    "augmented_df = pd.read_parquet(\"../dataset/train_df_English_augmented.parquet\")\n",
    " "
   ]
  },
  {
   "cell_type": "code",
   "execution_count": null,
   "metadata": {},
   "outputs": [],
   "source": [
    "def word_count(sentence):\n",
    "    if sentence is not None:\n",
    "        return len(sentence.split(\" \"))\n",
    "    else:\n",
    "        0\n",
    "\n",
    "augmented_df[\"content\"].apply(word_count).describe()"
   ]
  },
  {
   "cell_type": "code",
   "execution_count": null,
   "metadata": {},
   "outputs": [],
   "source": [
    "augmented_df.head()"
   ]
  },
  {
   "cell_type": "code",
   "execution_count": null,
   "metadata": {},
   "outputs": [],
   "source": [
    "def generate_gpt_label(sentence):\n",
    "        \n",
    "    template = f\"\"\"Given the following news, output 0 if the ESG impact duration is below 2 years, 1 if the ESG impact duration is between 2 and 5 year and 2 if the ESG impact duration is more than 5 years. You only need to output the number, and do not need any further explanation.\n",
    "    \n",
    "    {sentence}\"\"\"\n",
    "    \n",
    "    conversation = [\n",
    "            {\"role\": \"system\", \"content\": \"You are an ESG analyst, skilled assessing the level and duration an event in the news article might have on the company\"},\n",
    "            {\"role\": \"user\", \"content\": template}\n",
    "        ]\n",
    "    \n",
    "    completion = client.chat.completions.create(\n",
    "        model=\"gpt-4\",\n",
    "        messages=conversation,\n",
    "        temperature=0.7\n",
    "    )\n",
    "    \n",
    "    message = completion.choices[0].message.content\n",
    "    \n",
    "    return int(message)\n",
    "\n",
    "\n",
    "augmented_df[\"gpt_label\"] = augmented_df[\"sentence\"].apply(generate_gpt_label)"
   ]
  },
  {
   "cell_type": "code",
   "execution_count": null,
   "metadata": {},
   "outputs": [],
   "source": [
    "augmented_df.groupby(\"gpt_label\")[\"gpt_label\"].count()"
   ]
  },
  {
   "cell_type": "code",
   "execution_count": null,
   "metadata": {},
   "outputs": [],
   "source": [
    "len(augmented_df[augmented_df[\"gpt_label\"] == augmented_df[\"impact_length_idx\"]])"
   ]
  },
  {
   "cell_type": "code",
   "execution_count": null,
   "metadata": {},
   "outputs": [],
   "source": [
    "def word_count(sentence):\n",
    "    if sentence is not None:\n",
    "        return len(sentence.split( ))\n",
    "    return 0"
   ]
  },
  {
   "cell_type": "code",
   "execution_count": null,
   "metadata": {},
   "outputs": [],
   "source": [
    "augmented_df[\"content_wc\"] = augmented_df[\"content\"].apply(word_count)"
   ]
  },
  {
   "cell_type": "code",
   "execution_count": null,
   "metadata": {},
   "outputs": [],
   "source": [
    "augmented_df[\"content_wc\"].describe()"
   ]
  },
  {
   "cell_type": "code",
   "execution_count": null,
   "metadata": {},
   "outputs": [],
   "source": []
  }
 ],
 "metadata": {
  "kernelspec": {
   "display_name": "torch",
   "language": "python",
   "name": "python3"
  },
  "language_info": {
   "codemirror_mode": {
    "name": "ipython",
    "version": 3
   },
   "file_extension": ".py",
   "mimetype": "text/x-python",
   "name": "python",
   "nbconvert_exporter": "python",
   "pygments_lexer": "ipython3",
   "version": "3.9.18"
  },
  "orig_nbformat": 4
 },
 "nbformat": 4,
 "nbformat_minor": 2
}
