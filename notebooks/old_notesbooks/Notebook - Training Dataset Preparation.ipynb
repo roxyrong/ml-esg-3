{
 "cells": [
  {
   "cell_type": "markdown",
   "source": [
    "# Notebook - Training Dataset Preparation"
   ],
   "metadata": {
    "collapsed": false
   },
   "id": "8eb118f04365128a"
  },
  {
   "cell_type": "code",
   "execution_count": 64,
   "id": "initial_id",
   "metadata": {
    "collapsed": true,
    "ExecuteTime": {
     "end_time": "2024-01-23T13:36:31.390959100Z",
     "start_time": "2024-01-23T13:36:31.287626700Z"
    }
   },
   "outputs": [],
   "source": [
    "import pandas as pd"
   ]
  },
  {
   "cell_type": "markdown",
   "source": [
    "### Load dataset"
   ],
   "metadata": {
    "collapsed": false
   },
   "id": "ca17b44e67fae481"
  },
  {
   "cell_type": "code",
   "outputs": [],
   "source": [
    "eng_seg = pd.read_parquet(\"../dataset/train_df_English_translated.parquet\")\n",
    "fre_seg = pd.read_parquet(\"../dataset/train_df_French_translated.parquet\")\n",
    "kor_seg = pd.read_parquet(\"../dataset/train_df_Korean_translated_segmented.parquet\")\n",
    "chn_esg = pd.read_parquet(\"../dataset/train_df_Chinese_translated_segmented.parquet\")"
   ],
   "metadata": {
    "collapsed": false,
    "ExecuteTime": {
     "end_time": "2024-01-23T13:36:31.772225200Z",
     "start_time": "2024-01-23T13:36:31.395586100Z"
    }
   },
   "id": "750ac8a928139c81",
   "execution_count": 65
  },
  {
   "cell_type": "code",
   "outputs": [],
   "source": [
    "chn_esg[\"title\"] = chn_esg[\"sentence\"].apply(lambda x: x.split(\"||\")[0].strip())\n",
    "kor_seg[\"title\"] = kor_seg[\"sentence\"].apply(lambda x: x.split(\"||\")[0].strip())\n",
    "chn_esg = chn_esg[[\"title\", \"language\", \"grouped_sentences\",\"impact_length_idx\"]]\n",
    "kor_seg = kor_seg[[\"title\", \"language\", \"grouped_sentences\",\"impact_length_idx\"]]\n",
    "\n",
    "eng_seg[\"grouped_sentences\"] = eng_seg[\"sentence\"]\n",
    "fre_seg[\"grouped_sentences\"] = fre_seg[\"sentence\"]\n",
    "eng_seg = eng_seg[[\"title\", \"language\", \"grouped_sentences\",\"impact_length_idx\"]]\n",
    "fre_seg = fre_seg[[\"title\", \"language\", \"grouped_sentences\",\"impact_length_idx\"]]"
   ],
   "metadata": {
    "collapsed": false,
    "ExecuteTime": {
     "end_time": "2024-01-23T13:36:31.804648600Z",
     "start_time": "2024-01-23T13:36:31.772743500Z"
    }
   },
   "id": "6556434070f0decd",
   "execution_count": 66
  },
  {
   "cell_type": "code",
   "outputs": [],
   "source": [
    "df = pd.concat([chn_esg, fre_seg, kor_seg, eng_seg])\n",
    "df[\"source\"] = \"normal\""
   ],
   "metadata": {
    "collapsed": false,
    "ExecuteTime": {
     "end_time": "2024-01-23T13:36:31.823706100Z",
     "start_time": "2024-01-23T13:36:31.804648600Z"
    }
   },
   "id": "1219a9110c288cdb",
   "execution_count": 67
  },
  {
   "cell_type": "markdown",
   "source": [
    "### Load augmented dataset"
   ],
   "metadata": {
    "collapsed": false
   },
   "id": "3a62ef9857abcaac"
  },
  {
   "cell_type": "code",
   "outputs": [],
   "source": [
    "aug_seg = pd.read_parquet(\"../dataset/train_df_English_augmented.parquet\")"
   ],
   "metadata": {
    "collapsed": false,
    "ExecuteTime": {
     "end_time": "2024-01-23T13:36:31.884658600Z",
     "start_time": "2024-01-23T13:36:31.822170900Z"
    }
   },
   "id": "deeb298008adc70c",
   "execution_count": 68
  },
  {
   "cell_type": "code",
   "outputs": [],
   "source": [
    "aug_seg[\"title\"] = aug_seg[\"title\"].apply(lambda x: x[1:len(x)])\n",
    "aug_seg[\"grouped_sentences\"] = aug_seg[\"sentence\"].apply(lambda x: x[1:len(x)-1])\n",
    "aug_seg[\"source\"] = \"gpt\"\n",
    "aug_seg = aug_seg[[\"title\", \"language\", \"grouped_sentences\",\"impact_length_idx\",\"source\"]]"
   ],
   "metadata": {
    "collapsed": false,
    "ExecuteTime": {
     "end_time": "2024-01-23T13:36:31.885158400Z",
     "start_time": "2024-01-23T13:36:31.868129Z"
    }
   },
   "id": "43b9f94f2998798d",
   "execution_count": 69
  },
  {
   "cell_type": "code",
   "outputs": [],
   "source": [
    "df = pd.concat([df, aug_seg])"
   ],
   "metadata": {
    "collapsed": false,
    "ExecuteTime": {
     "end_time": "2024-01-23T13:36:31.908199Z",
     "start_time": "2024-01-23T13:36:31.882658200Z"
    }
   },
   "id": "9699c067a4f705a0",
   "execution_count": 70
  },
  {
   "cell_type": "code",
   "outputs": [],
   "source": [
    "groups = list(set(df[\"title\"].tolist()))\n",
    "group_indic_dict = {}\n",
    "for i,v in enumerate(groups):\n",
    "    group_indic_dict[v] = i"
   ],
   "metadata": {
    "collapsed": false,
    "ExecuteTime": {
     "end_time": "2024-01-23T13:36:31.928600400Z",
     "start_time": "2024-01-23T13:36:31.898178400Z"
    }
   },
   "id": "f2ea2af8c7ddd439",
   "execution_count": 71
  },
  {
   "cell_type": "code",
   "outputs": [
    {
     "data": {
      "text/plain": "     source  group_indicator language  \\\n545  normal             1547  Chinese   \n545  normal             1547  Chinese   \n546  normal              694  Chinese   \n546  normal              694  Chinese   \n546  normal              694  Chinese   \n..      ...              ...      ...   \n85      gpt              652  English   \n86      gpt              456  English   \n87      gpt              288  English   \n88      gpt             1372  English   \n89      gpt              315  English   \n\n                                                 title  \\\n545                      老闆本人就是打卡機？比爾蓋茲背下員工車牌，計算每人工作時數   \n545                      老闆本人就是打卡機？比爾蓋茲背下員工車牌，計算每人工作時數   \n546    Mercedes-Maybach也要電動化，全新賓士EQE、AMG首款電動車將齊聚慕尼黑車展！   \n546    Mercedes-Maybach也要電動化，全新賓士EQE、AMG首款電動車將齊聚慕尼黑車展！   \n546    Mercedes-Maybach也要電動化，全新賓士EQE、AMG首款電動車將齊聚慕尼黑車展！   \n..                                                 ...   \n85           Uber Pledges to be Fully Electric by 2040   \n86   Kellogg Company Targets 50% Reduction in Globa...   \n87       Tata Motors Aims to be Carbon Neutral by 2039   \n88   Starbucks Commits to Achieve Resource Positive...   \n89   Ikea to Invest €4 billion in Renewable Energy ...   \n\n                                               feature  label  \n545  The boss himself is a clock-punching machine? ...    2.0  \n545  Although Microsoft is now a world-renowned and...    2.0  \n546  Mercedes-Maybach is going electric too, with t...    0.0  \n546  In addition to the already announced EQA, EQB,...    0.0  \n546  IAA Mobility Pre-Night on the 5th of September...    0.0  \n..                                                 ...    ...  \n85   Uber Pledges to be Fully Electric by 2040 || R...    2.0  \n86   Kellogg Company Targets 50% Reduction in Globa...    2.0  \n87   Tata Motors Aims to be Carbon Neutral by 2039 ...    2.0  \n88   Starbucks Commits to Achieve Resource Positive...    2.0  \n89   Ikea to Invest €4 billion in Renewable Energy ...    2.0  \n\n[6680 rows x 6 columns]",
      "text/html": "<div>\n<style scoped>\n    .dataframe tbody tr th:only-of-type {\n        vertical-align: middle;\n    }\n\n    .dataframe tbody tr th {\n        vertical-align: top;\n    }\n\n    .dataframe thead th {\n        text-align: right;\n    }\n</style>\n<table border=\"1\" class=\"dataframe\">\n  <thead>\n    <tr style=\"text-align: right;\">\n      <th></th>\n      <th>source</th>\n      <th>group_indicator</th>\n      <th>language</th>\n      <th>title</th>\n      <th>feature</th>\n      <th>label</th>\n    </tr>\n  </thead>\n  <tbody>\n    <tr>\n      <th>545</th>\n      <td>normal</td>\n      <td>1547</td>\n      <td>Chinese</td>\n      <td>老闆本人就是打卡機？比爾蓋茲背下員工車牌，計算每人工作時數</td>\n      <td>The boss himself is a clock-punching machine? ...</td>\n      <td>2.0</td>\n    </tr>\n    <tr>\n      <th>545</th>\n      <td>normal</td>\n      <td>1547</td>\n      <td>Chinese</td>\n      <td>老闆本人就是打卡機？比爾蓋茲背下員工車牌，計算每人工作時數</td>\n      <td>Although Microsoft is now a world-renowned and...</td>\n      <td>2.0</td>\n    </tr>\n    <tr>\n      <th>546</th>\n      <td>normal</td>\n      <td>694</td>\n      <td>Chinese</td>\n      <td>Mercedes-Maybach也要電動化，全新賓士EQE、AMG首款電動車將齊聚慕尼黑車展！</td>\n      <td>Mercedes-Maybach is going electric too, with t...</td>\n      <td>0.0</td>\n    </tr>\n    <tr>\n      <th>546</th>\n      <td>normal</td>\n      <td>694</td>\n      <td>Chinese</td>\n      <td>Mercedes-Maybach也要電動化，全新賓士EQE、AMG首款電動車將齊聚慕尼黑車展！</td>\n      <td>In addition to the already announced EQA, EQB,...</td>\n      <td>0.0</td>\n    </tr>\n    <tr>\n      <th>546</th>\n      <td>normal</td>\n      <td>694</td>\n      <td>Chinese</td>\n      <td>Mercedes-Maybach也要電動化，全新賓士EQE、AMG首款電動車將齊聚慕尼黑車展！</td>\n      <td>IAA Mobility Pre-Night on the 5th of September...</td>\n      <td>0.0</td>\n    </tr>\n    <tr>\n      <th>...</th>\n      <td>...</td>\n      <td>...</td>\n      <td>...</td>\n      <td>...</td>\n      <td>...</td>\n      <td>...</td>\n    </tr>\n    <tr>\n      <th>85</th>\n      <td>gpt</td>\n      <td>652</td>\n      <td>English</td>\n      <td>Uber Pledges to be Fully Electric by 2040</td>\n      <td>Uber Pledges to be Fully Electric by 2040 || R...</td>\n      <td>2.0</td>\n    </tr>\n    <tr>\n      <th>86</th>\n      <td>gpt</td>\n      <td>456</td>\n      <td>English</td>\n      <td>Kellogg Company Targets 50% Reduction in Globa...</td>\n      <td>Kellogg Company Targets 50% Reduction in Globa...</td>\n      <td>2.0</td>\n    </tr>\n    <tr>\n      <th>87</th>\n      <td>gpt</td>\n      <td>288</td>\n      <td>English</td>\n      <td>Tata Motors Aims to be Carbon Neutral by 2039</td>\n      <td>Tata Motors Aims to be Carbon Neutral by 2039 ...</td>\n      <td>2.0</td>\n    </tr>\n    <tr>\n      <th>88</th>\n      <td>gpt</td>\n      <td>1372</td>\n      <td>English</td>\n      <td>Starbucks Commits to Achieve Resource Positive...</td>\n      <td>Starbucks Commits to Achieve Resource Positive...</td>\n      <td>2.0</td>\n    </tr>\n    <tr>\n      <th>89</th>\n      <td>gpt</td>\n      <td>315</td>\n      <td>English</td>\n      <td>Ikea to Invest €4 billion in Renewable Energy ...</td>\n      <td>Ikea to Invest €4 billion in Renewable Energy ...</td>\n      <td>2.0</td>\n    </tr>\n  </tbody>\n</table>\n<p>6680 rows × 6 columns</p>\n</div>"
     },
     "execution_count": 72,
     "metadata": {},
     "output_type": "execute_result"
    }
   ],
   "source": [
    "df[\"group_indicator\"] = df[\"title\"].apply(lambda x: group_indic_dict[x])\n",
    "df[\"feature\"] = df[\"grouped_sentences\"]\n",
    "df[\"label\"] = df[\"impact_length_idx\"]\n",
    "df = df[[\"source\", \"group_indicator\", \"language\", \"title\", \"feature\", \"label\"]]\n",
    "df"
   ],
   "metadata": {
    "collapsed": false,
    "ExecuteTime": {
     "end_time": "2024-01-23T13:36:31.929100700Z",
     "start_time": "2024-01-23T13:36:31.914227200Z"
    }
   },
   "id": "a683376ca394427d",
   "execution_count": 72
  },
  {
   "cell_type": "code",
   "outputs": [],
   "source": [
    "df.to_parquet(\"../dataset/training_dataset.parquet\")"
   ],
   "metadata": {
    "collapsed": false,
    "ExecuteTime": {
     "end_time": "2024-01-23T13:36:32.319862Z",
     "start_time": "2024-01-23T13:36:31.928600400Z"
    }
   },
   "id": "1b0ad2da7a6c212",
   "execution_count": 73
  },
  {
   "cell_type": "code",
   "outputs": [],
   "source": [],
   "metadata": {
    "collapsed": false
   },
   "id": "49cf8eca6405d847"
  },
  {
   "cell_type": "code",
   "outputs": [],
   "source": [
    "eng_seg = pd.read_parquet(\"../dataset/train_df_English_translated.parquet\")"
   ],
   "metadata": {
    "collapsed": false,
    "ExecuteTime": {
     "end_time": "2024-01-23T14:06:58.668056600Z",
     "start_time": "2024-01-23T14:06:58.310568400Z"
    }
   },
   "id": "9206ddc516ebe203",
   "execution_count": 74
  },
  {
   "cell_type": "code",
   "outputs": [
    {
     "data": {
      "text/plain": "                                                   url  \\\n0    https://www.esgtoday.com/arabesque-ai-appoints...   \n1    https://www.esgtoday.com/arabesque-ai-appoints...   \n2    https://www.esgtoday.com/arabesque-ai-appoints...   \n3    https://www.esgtoday.com/ukraine-war-inflation...   \n4    https://www.esgtoday.com/eu-regulators-welcome...   \n..                                                 ...   \n540  https://www.esgtoday.com/methane-emissions-det...   \n541  https://www.esgtoday.com/eaton-appoints-harold...   \n542  https://www.esgtoday.com/ssga-outlines-2021-st...   \n543  https://www.esgtoday.com/survey-investors-shif...   \n544  https://www.esgtoday.com/chicago-to-transition...   \n\n                                                 title  \\\n0    Arabesque AI Appoints Carolina Minio Paluello ...   \n1    Arabesque AI Appoints Carolina Minio Paluello ...   \n2    Arabesque AI Appoints Carolina Minio Paluello ...   \n3    Ukraine War, Inflation Reduction Act Driving F...   \n4    EU Regulators Welcome, Critique New European S...   \n..                                                 ...   \n540  Methane Emissions Detection Platform Kuva Rais...   \n541  Eaton Appoints Harold Jones as Chief Sustainab...   \n542  SSGA Outlines 2021 Stewardship Priorities, Wil...   \n543  Survey: Investors Shifting to Offense on Clima...   \n544  Chicago to Transition Buildings, Airports & Op...   \n\n                                               content  impact_length_idx  \\\n0    ESG-focused financial technology company Arabe...                1.0   \n1    The company also announced the appointment of ...                1.0   \n2    Wong said:  \\n“Personalised portfolios demand ...                1.0   \n3    One of the key themes of the report is the imp...                2.0   \n4    Europe’s three primary financial regulatory ag...                0.0   \n..                                                 ...                ...   \n540  Stefan Bokaemper, CEO of Kuva Systems, said: “...                1.0   \n541  Eaton Appoints Harold Jones as Chief Sustainab...                1.0   \n542  In his letter, Taraporevala wrote: “As a signa...                0.0   \n543  O’Brien said: “Investors globally are increasi...                0.0   \n544  Jim McHugh, Chief Commercial Officer, Constell...                1.0   \n\n    language                                           sentence  \n0    English  Arabesque AI Appoints Carolina Minio Paluello ...  \n1    English  Arabesque AI Appoints Carolina Minio Paluello ...  \n2    English  Arabesque AI Appoints Carolina Minio Paluello ...  \n3    English  Ukraine War, Inflation Reduction Act Driving F...  \n4    English  EU Regulators Welcome, Critique New European S...  \n..       ...                                                ...  \n540  English  Methane Emissions Detection Platform Kuva Rais...  \n541  English  Eaton Appoints Harold Jones as Chief Sustainab...  \n542  English  SSGA Outlines 2021 Stewardship Priorities, Wil...  \n543  English  Survey: Investors Shifting to Offense on Clima...  \n544  English  Chicago to Transition Buildings, Airports & Op...  \n\n[545 rows x 6 columns]",
      "text/html": "<div>\n<style scoped>\n    .dataframe tbody tr th:only-of-type {\n        vertical-align: middle;\n    }\n\n    .dataframe tbody tr th {\n        vertical-align: top;\n    }\n\n    .dataframe thead th {\n        text-align: right;\n    }\n</style>\n<table border=\"1\" class=\"dataframe\">\n  <thead>\n    <tr style=\"text-align: right;\">\n      <th></th>\n      <th>url</th>\n      <th>title</th>\n      <th>content</th>\n      <th>impact_length_idx</th>\n      <th>language</th>\n      <th>sentence</th>\n    </tr>\n  </thead>\n  <tbody>\n    <tr>\n      <th>0</th>\n      <td>https://www.esgtoday.com/arabesque-ai-appoints...</td>\n      <td>Arabesque AI Appoints Carolina Minio Paluello ...</td>\n      <td>ESG-focused financial technology company Arabe...</td>\n      <td>1.0</td>\n      <td>English</td>\n      <td>Arabesque AI Appoints Carolina Minio Paluello ...</td>\n    </tr>\n    <tr>\n      <th>1</th>\n      <td>https://www.esgtoday.com/arabesque-ai-appoints...</td>\n      <td>Arabesque AI Appoints Carolina Minio Paluello ...</td>\n      <td>The company also announced the appointment of ...</td>\n      <td>1.0</td>\n      <td>English</td>\n      <td>Arabesque AI Appoints Carolina Minio Paluello ...</td>\n    </tr>\n    <tr>\n      <th>2</th>\n      <td>https://www.esgtoday.com/arabesque-ai-appoints...</td>\n      <td>Arabesque AI Appoints Carolina Minio Paluello ...</td>\n      <td>Wong said:  \\n“Personalised portfolios demand ...</td>\n      <td>1.0</td>\n      <td>English</td>\n      <td>Arabesque AI Appoints Carolina Minio Paluello ...</td>\n    </tr>\n    <tr>\n      <th>3</th>\n      <td>https://www.esgtoday.com/ukraine-war-inflation...</td>\n      <td>Ukraine War, Inflation Reduction Act Driving F...</td>\n      <td>One of the key themes of the report is the imp...</td>\n      <td>2.0</td>\n      <td>English</td>\n      <td>Ukraine War, Inflation Reduction Act Driving F...</td>\n    </tr>\n    <tr>\n      <th>4</th>\n      <td>https://www.esgtoday.com/eu-regulators-welcome...</td>\n      <td>EU Regulators Welcome, Critique New European S...</td>\n      <td>Europe’s three primary financial regulatory ag...</td>\n      <td>0.0</td>\n      <td>English</td>\n      <td>EU Regulators Welcome, Critique New European S...</td>\n    </tr>\n    <tr>\n      <th>...</th>\n      <td>...</td>\n      <td>...</td>\n      <td>...</td>\n      <td>...</td>\n      <td>...</td>\n      <td>...</td>\n    </tr>\n    <tr>\n      <th>540</th>\n      <td>https://www.esgtoday.com/methane-emissions-det...</td>\n      <td>Methane Emissions Detection Platform Kuva Rais...</td>\n      <td>Stefan Bokaemper, CEO of Kuva Systems, said: “...</td>\n      <td>1.0</td>\n      <td>English</td>\n      <td>Methane Emissions Detection Platform Kuva Rais...</td>\n    </tr>\n    <tr>\n      <th>541</th>\n      <td>https://www.esgtoday.com/eaton-appoints-harold...</td>\n      <td>Eaton Appoints Harold Jones as Chief Sustainab...</td>\n      <td>Eaton Appoints Harold Jones as Chief Sustainab...</td>\n      <td>1.0</td>\n      <td>English</td>\n      <td>Eaton Appoints Harold Jones as Chief Sustainab...</td>\n    </tr>\n    <tr>\n      <th>542</th>\n      <td>https://www.esgtoday.com/ssga-outlines-2021-st...</td>\n      <td>SSGA Outlines 2021 Stewardship Priorities, Wil...</td>\n      <td>In his letter, Taraporevala wrote: “As a signa...</td>\n      <td>0.0</td>\n      <td>English</td>\n      <td>SSGA Outlines 2021 Stewardship Priorities, Wil...</td>\n    </tr>\n    <tr>\n      <th>543</th>\n      <td>https://www.esgtoday.com/survey-investors-shif...</td>\n      <td>Survey: Investors Shifting to Offense on Clima...</td>\n      <td>O’Brien said: “Investors globally are increasi...</td>\n      <td>0.0</td>\n      <td>English</td>\n      <td>Survey: Investors Shifting to Offense on Clima...</td>\n    </tr>\n    <tr>\n      <th>544</th>\n      <td>https://www.esgtoday.com/chicago-to-transition...</td>\n      <td>Chicago to Transition Buildings, Airports &amp; Op...</td>\n      <td>Jim McHugh, Chief Commercial Officer, Constell...</td>\n      <td>1.0</td>\n      <td>English</td>\n      <td>Chicago to Transition Buildings, Airports &amp; Op...</td>\n    </tr>\n  </tbody>\n</table>\n<p>545 rows × 6 columns</p>\n</div>"
     },
     "execution_count": 75,
     "metadata": {},
     "output_type": "execute_result"
    }
   ],
   "source": [
    "eng_seg"
   ],
   "metadata": {
    "collapsed": false,
    "ExecuteTime": {
     "end_time": "2024-01-23T14:07:03.891175Z",
     "start_time": "2024-01-23T14:07:03.792508900Z"
    }
   },
   "id": "6622e0926ac2b26e",
   "execution_count": 75
  },
  {
   "cell_type": "code",
   "outputs": [],
   "source": [
    "eng_seg_cons = eng_seg.groupby(\"title\").agg({\"impact_length_idx\":\"first\",'sentence':\"sum\",\"language\":\"first\",\"content\":\"sum\"})"
   ],
   "metadata": {
    "collapsed": false,
    "ExecuteTime": {
     "end_time": "2024-01-23T14:11:34.167676Z",
     "start_time": "2024-01-23T14:11:34.097330600Z"
    }
   },
   "id": "88ff5720fb23bc3d",
   "execution_count": 76
  },
  {
   "cell_type": "code",
   "outputs": [
    {
     "data": {
      "text/plain": "                                                    impact_length_idx  \\\ntitle                                                                   \n$11.4T Investor Coalition Pressures Fast Food I...                2.0   \n100 EU Cities Commit to Reach Climate Neutralit...                2.0   \n3M to Invest $1 Billion Towards Achieving New C...                2.0   \nAccenture Announces New Sustainability Goals, A...                2.0   \nAccenture Continues Series of ESG Acquisitions ...                0.0   \n...                                                               ...   \nZero Carbon Building Materials Startup Promethe...                2.0   \nabrdn Says it Will Vote Against Companies Who D...                2.0   \nbp Enters Offshore Wind Market in $1.1B Deal an...                2.0   \ndv01 Acquires Pragmic Technologies, to Provide ...                1.0   \nresponsAbility Raises $274 Million for Sustaina...                2.0   \n\n                                                                                             sentence  \\\ntitle                                                                                                   \n$11.4T Investor Coalition Pressures Fast Food I...  $11.4T Investor Coalition Pressures Fast Food ...   \n100 EU Cities Commit to Reach Climate Neutralit...  100 EU Cities Commit to Reach Climate Neutrali...   \n3M to Invest $1 Billion Towards Achieving New C...  3M to Invest $1 Billion Towards Achieving New ...   \nAccenture Announces New Sustainability Goals, A...  Accenture Announces New Sustainability Goals, ...   \nAccenture Continues Series of ESG Acquisitions ...  Accenture Continues Series of ESG Acquisitions...   \n...                                                                                               ...   \nZero Carbon Building Materials Startup Promethe...  Zero Carbon Building Materials Startup Prometh...   \nabrdn Says it Will Vote Against Companies Who D...  abrdn Says it Will Vote Against Companies Who ...   \nbp Enters Offshore Wind Market in $1.1B Deal an...  bp Enters Offshore Wind Market in $1.1B Deal a...   \ndv01 Acquires Pragmic Technologies, to Provide ...  dv01 Acquires Pragmic Technologies, to Provide...   \nresponsAbility Raises $274 Million for Sustaina...  responsAbility Raises $274 Million for Sustain...   \n\n                                                   language  \\\ntitle                                                         \n$11.4T Investor Coalition Pressures Fast Food I...  English   \n100 EU Cities Commit to Reach Climate Neutralit...  English   \n3M to Invest $1 Billion Towards Achieving New C...  English   \nAccenture Announces New Sustainability Goals, A...  English   \nAccenture Continues Series of ESG Acquisitions ...  English   \n...                                                     ...   \nZero Carbon Building Materials Startup Promethe...  English   \nabrdn Says it Will Vote Against Companies Who D...  English   \nbp Enters Offshore Wind Market in $1.1B Deal an...  English   \ndv01 Acquires Pragmic Technologies, to Provide ...  English   \nresponsAbility Raises $274 Million for Sustaina...  English   \n\n                                                                                              content  \ntitle                                                                                                  \n$11.4T Investor Coalition Pressures Fast Food I...  A global investor coalition, facilitated by gl...  \n100 EU Cities Commit to Reach Climate Neutralit...  The European Commission announced that it has ...  \n3M to Invest $1 Billion Towards Achieving New C...  3M’s new goals include achieving carbon neutra...  \nAccenture Announces New Sustainability Goals, A...  The firm’s zero waste initiatives will include...  \nAccenture Continues Series of ESG Acquisitions ...  The deal marks the third recent ESG-focused ac...  \n...                                                                                               ...  \nZero Carbon Building Materials Startup Promethe...  Loren Burnett, Co-Founder, President, and CEO ...  \nabrdn Says it Will Vote Against Companies Who D...  In a statement announcing the updated DEI requ...  \nbp Enters Offshore Wind Market in $1.1B Deal an...  One month after launching its energy transitio...  \ndv01 Acquires Pragmic Technologies, to Provide ...  Charlie Oshman, CEO and Co-Founder of Pragmic ...  \nresponsAbility Raises $274 Million for Sustaina...  Sustainable investment firm responsibility ann...  \n\n[339 rows x 4 columns]",
      "text/html": "<div>\n<style scoped>\n    .dataframe tbody tr th:only-of-type {\n        vertical-align: middle;\n    }\n\n    .dataframe tbody tr th {\n        vertical-align: top;\n    }\n\n    .dataframe thead th {\n        text-align: right;\n    }\n</style>\n<table border=\"1\" class=\"dataframe\">\n  <thead>\n    <tr style=\"text-align: right;\">\n      <th></th>\n      <th>impact_length_idx</th>\n      <th>sentence</th>\n      <th>language</th>\n      <th>content</th>\n    </tr>\n    <tr>\n      <th>title</th>\n      <th></th>\n      <th></th>\n      <th></th>\n      <th></th>\n    </tr>\n  </thead>\n  <tbody>\n    <tr>\n      <th>$11.4T Investor Coalition Pressures Fast Food Industry on Environmental Record</th>\n      <td>2.0</td>\n      <td>$11.4T Investor Coalition Pressures Fast Food ...</td>\n      <td>English</td>\n      <td>A global investor coalition, facilitated by gl...</td>\n    </tr>\n    <tr>\n      <th>100 EU Cities Commit to Reach Climate Neutrality by 2030</th>\n      <td>2.0</td>\n      <td>100 EU Cities Commit to Reach Climate Neutrali...</td>\n      <td>English</td>\n      <td>The European Commission announced that it has ...</td>\n    </tr>\n    <tr>\n      <th>3M to Invest $1 Billion Towards Achieving New Climate, Water Goals</th>\n      <td>2.0</td>\n      <td>3M to Invest $1 Billion Towards Achieving New ...</td>\n      <td>English</td>\n      <td>3M’s new goals include achieving carbon neutra...</td>\n    </tr>\n    <tr>\n      <th>Accenture Announces New Sustainability Goals, Appoints Chief Responsibility Officer</th>\n      <td>2.0</td>\n      <td>Accenture Announces New Sustainability Goals, ...</td>\n      <td>English</td>\n      <td>The firm’s zero waste initiatives will include...</td>\n    </tr>\n    <tr>\n      <th>Accenture Continues Series of ESG Acquisitions with Purchase of Sustainability Consultancy akzente</th>\n      <td>0.0</td>\n      <td>Accenture Continues Series of ESG Acquisitions...</td>\n      <td>English</td>\n      <td>The deal marks the third recent ESG-focused ac...</td>\n    </tr>\n    <tr>\n      <th>...</th>\n      <td>...</td>\n      <td>...</td>\n      <td>...</td>\n      <td>...</td>\n    </tr>\n    <tr>\n      <th>Zero Carbon Building Materials Startup Prometheus Raises $8 Million</th>\n      <td>2.0</td>\n      <td>Zero Carbon Building Materials Startup Prometh...</td>\n      <td>English</td>\n      <td>Loren Burnett, Co-Founder, President, and CEO ...</td>\n    </tr>\n    <tr>\n      <th>abrdn Says it Will Vote Against Companies Who Do Not Meet Diversity Expectations</th>\n      <td>2.0</td>\n      <td>abrdn Says it Will Vote Against Companies Who ...</td>\n      <td>English</td>\n      <td>In a statement announcing the updated DEI requ...</td>\n    </tr>\n    <tr>\n      <th>bp Enters Offshore Wind Market in $1.1B Deal and Partnership with Equinor</th>\n      <td>2.0</td>\n      <td>bp Enters Offshore Wind Market in $1.1B Deal a...</td>\n      <td>English</td>\n      <td>One month after launching its energy transitio...</td>\n    </tr>\n    <tr>\n      <th>dv01 Acquires Pragmic Technologies, to Provide ESG Ratings for Structured Products</th>\n      <td>1.0</td>\n      <td>dv01 Acquires Pragmic Technologies, to Provide...</td>\n      <td>English</td>\n      <td>Charlie Oshman, CEO and Co-Founder of Pragmic ...</td>\n    </tr>\n    <tr>\n      <th>responsAbility Raises $274 Million for Sustainable Food Strategies</th>\n      <td>2.0</td>\n      <td>responsAbility Raises $274 Million for Sustain...</td>\n      <td>English</td>\n      <td>Sustainable investment firm responsibility ann...</td>\n    </tr>\n  </tbody>\n</table>\n<p>339 rows × 4 columns</p>\n</div>"
     },
     "execution_count": 77,
     "metadata": {},
     "output_type": "execute_result"
    }
   ],
   "source": [
    "eng_seg_cons"
   ],
   "metadata": {
    "collapsed": false,
    "ExecuteTime": {
     "end_time": "2024-01-23T14:11:37.698150200Z",
     "start_time": "2024-01-23T14:11:37.416703800Z"
    }
   },
   "id": "f1c08adaeb747553",
   "execution_count": 77
  },
  {
   "cell_type": "code",
   "outputs": [],
   "source": [],
   "metadata": {
    "collapsed": false
   },
   "id": "1bb05c10c7406146"
  }
 ],
 "metadata": {
  "kernelspec": {
   "display_name": "Python 3",
   "language": "python",
   "name": "python3"
  },
  "language_info": {
   "codemirror_mode": {
    "name": "ipython",
    "version": 2
   },
   "file_extension": ".py",
   "mimetype": "text/x-python",
   "name": "python",
   "nbconvert_exporter": "python",
   "pygments_lexer": "ipython2",
   "version": "2.7.6"
  }
 },
 "nbformat": 4,
 "nbformat_minor": 5
}
