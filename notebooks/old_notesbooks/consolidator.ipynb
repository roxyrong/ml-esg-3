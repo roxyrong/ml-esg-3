{
 "cells": [
  {
   "cell_type": "code",
   "execution_count": 14,
   "id": "initial_id",
   "metadata": {
    "ExecuteTime": {
     "end_time": "2024-01-23T15:12:38.155680500Z",
     "start_time": "2024-01-23T15:12:38.040288400Z"
    },
    "collapsed": true
   },
   "outputs": [],
   "source": [
    "import pandas as pd"
   ]
  },
  {
   "cell_type": "code",
   "execution_count": 15,
   "id": "33cb74f344f9395",
   "metadata": {
    "ExecuteTime": {
     "end_time": "2024-01-23T15:12:38.658672400Z",
     "start_time": "2024-01-23T15:12:38.132649900Z"
    },
    "collapsed": false
   },
   "outputs": [],
   "source": [
    "eng_seg = pd.read_parquet(\"../dataset/train_df_English_translated.parquet\")\n",
    "fre_seg = pd.read_parquet(\"../dataset/train_df_French_translated.parquet\")\n",
    "kor_seg = pd.read_parquet(\"../dataset/train_df_Korean_translated.parquet\")\n",
    "chn_esg = pd.read_parquet(\"../dataset/train_df_Chinese_translated.parquet\")"
   ]
  },
  {
   "cell_type": "code",
   "execution_count": 16,
   "id": "144eca8703250770",
   "metadata": {
    "ExecuteTime": {
     "end_time": "2024-01-23T15:12:38.719759Z",
     "start_time": "2024-01-23T15:12:38.659672700Z"
    },
    "collapsed": false
   },
   "outputs": [],
   "source": [
    "eng_seg = eng_seg.drop_duplicates()\n",
    "fre_seg = fre_seg.drop_duplicates()\n",
    "kor_seg = kor_seg.drop_duplicates()\n",
    "chn_esg = chn_esg.drop_duplicates()"
   ]
  },
  {
   "cell_type": "code",
   "execution_count": 17,
   "id": "4dc6ff1fb635dea5",
   "metadata": {
    "ExecuteTime": {
     "end_time": "2024-01-23T15:12:38.741745400Z",
     "start_time": "2024-01-23T15:12:38.722259700Z"
    },
    "collapsed": false
   },
   "outputs": [],
   "source": [
    "# Korean Dataset Processing\n",
    "def aggregator(df):\n",
    "    df_agg = df.groupby(\"title\").agg({\"impact_length_idx\":\"first\",'sentence':\"sum\",\"language\":\"first\",\"content\":\"sum\"})\n",
    "    df_agg[\"title_info\"] = df_agg.index\n",
    "    df_agg.reset_index(inplace=True)\n",
    "    df_agg[\"sep\"] = \" || \"\n",
    "    df_agg[\"feature\"] = df_agg[\"title_info\"] + df_agg[\"sep\"] + df_agg[\"content\"]\n",
    "    df_agg[\"label\"] = df_agg[\"impact_length_idx\"]\n",
    "    df_agg = df_agg[[\"title_info\", \"language\", \"feature\", \"label\"]]\n",
    "    return df_agg"
   ]
  },
  {
   "attachments": {},
   "cell_type": "markdown",
   "id": "8c2e6a6f29520b21",
   "metadata": {
    "collapsed": false
   },
   "source": [
    "### Korean Dataset Aggregation"
   ]
  },
  {
   "cell_type": "code",
   "execution_count": 18,
   "id": "fcad576408f1f3d7",
   "metadata": {
    "ExecuteTime": {
     "end_time": "2024-01-23T15:12:38.760679Z",
     "start_time": "2024-01-23T15:12:38.739245800Z"
    },
    "collapsed": false
   },
   "outputs": [],
   "source": [
    "# Separate the title & Body\n",
    "kor_seg[\"title_eng\"] = kor_seg[\"Translation\"].apply(lambda x : x.split(\"||\")[0].strip())\n",
    "kor_seg[\"body\"] = kor_seg[\"Translation\"].apply(lambda x : x.split(\"||\")[-1].strip())\n",
    "# Perform Aggregations\n",
    "df_agg = kor_seg.groupby(\"title\").agg({\"impact_length_idx\":\"first\",'sentence':\"sum\",\"language\":\"first\",\"content\":\"sum\",\"title_eng\":\"first\",\"body\":\"sum\"})\n",
    "df_agg[\"title_info\"] = df_agg.index\n",
    "df_agg.reset_index(inplace=True)\n",
    "df_agg[\"sep\"] = \" || \"\n",
    "df_agg[\"feature\"] = df_agg[\"title_eng\"] + df_agg[\"sep\"] + df_agg[\"body\"]\n",
    "df_agg[\"label\"] = df_agg[\"impact_length_idx\"]\n",
    "df_agg = df_agg[[\"title_info\", \"language\", \"feature\", \"label\"]]\n",
    "kor_seg_agg = df_agg"
   ]
  },
  {
   "attachments": {},
   "cell_type": "markdown",
   "id": "517c65c5b01acda0",
   "metadata": {
    "collapsed": false
   },
   "source": [
    "### Chinese Dataset Aggregation"
   ]
  },
  {
   "cell_type": "code",
   "execution_count": 19,
   "id": "a36a397d37dec5a3",
   "metadata": {
    "ExecuteTime": {
     "end_time": "2024-01-23T15:12:38.768696Z",
     "start_time": "2024-01-23T15:12:38.752663400Z"
    },
    "collapsed": false
   },
   "outputs": [],
   "source": [
    "chn_esg[\"title_info\"] = chn_esg[\"title\"]\n",
    "chn_esg[\"feature\"] = chn_esg[\"Translation\"]\n",
    "chn_esg[\"label\"] = chn_esg[\"impact_length_idx\"]\n",
    "chn_seg_agg = chn_esg[[\"title_info\", \"language\", \"feature\", \"label\"]]"
   ]
  },
  {
   "attachments": {},
   "cell_type": "markdown",
   "id": "32597f807dfa61e9",
   "metadata": {
    "collapsed": false
   },
   "source": [
    "### French Dataset Aggregation"
   ]
  },
  {
   "cell_type": "code",
   "execution_count": 20,
   "id": "67ab5d69b5bc683",
   "metadata": {
    "ExecuteTime": {
     "end_time": "2024-01-23T15:12:38.789682700Z",
     "start_time": "2024-01-23T15:12:38.769695800Z"
    },
    "collapsed": false
   },
   "outputs": [],
   "source": [
    "# Perform Aggregations\n",
    "fre_seg[\"sep\"] = fre_seg[\"Translation\"].apply(lambda x : x.split(\"||\"))\n",
    "fre_seg[\"title_eng\"] = fre_seg[\"sep\"].apply(lambda x : x[0].strip() if len(x) == 2 else \"\")\n",
    "fre_seg[\"body\"] = fre_seg[\"sep\"].apply(lambda x : x[1].strip() if len(x) == 2 else x[0].strip())\n",
    "\n",
    "# Perform Aggregations\n",
    "df_agg = fre_seg.groupby(\"title\").agg({\"impact_length_idx\":\"first\",'sentence':\"sum\",\"language\":\"first\",\"content\":\"sum\",\"title_eng\":\"first\",\"body\":\"sum\"})\n",
    "df_agg[\"title_info\"] = df_agg.index\n",
    "df_agg.reset_index(inplace=True)\n",
    "df_agg[\"sep\"] = \" || \"\n",
    "df_agg[\"feature\"] = df_agg[\"title_eng\"] + df_agg[\"sep\"] + df_agg[\"body\"]\n",
    "df_agg[\"label\"] = df_agg[\"impact_length_idx\"]\n",
    "df_agg = df_agg[[\"title_info\", \"language\", \"feature\", \"label\"]]\n",
    "fre_seg_agg = df_agg"
   ]
  },
  {
   "attachments": {},
   "cell_type": "markdown",
   "id": "181ca7d8eef2a70b",
   "metadata": {
    "collapsed": false
   },
   "source": [
    "### English Dataset Aggregation"
   ]
  },
  {
   "cell_type": "code",
   "execution_count": 21,
   "id": "57d757c848e659c3",
   "metadata": {
    "ExecuteTime": {
     "end_time": "2024-01-23T15:12:38.802206Z",
     "start_time": "2024-01-23T15:12:38.782712500Z"
    },
    "collapsed": false
   },
   "outputs": [],
   "source": [
    "df_agg = eng_seg.groupby(\"title\").agg({\"impact_length_idx\":\"first\",'sentence':\"sum\",\"language\":\"first\",\"content\":\"sum\"})\n",
    "df_agg[\"title_info\"] = df_agg.index\n",
    "df_agg.reset_index(inplace=True)\n",
    "df_agg[\"sep\"] = \" || \"\n",
    "df_agg[\"feature\"] = df_agg[\"title_info\"] + df_agg[\"sep\"] + df_agg[\"content\"]\n",
    "df_agg[\"label\"] = df_agg[\"impact_length_idx\"]\n",
    "df_agg = df_agg[[\"title_info\", \"language\", \"feature\", \"label\"]]\n",
    "eng_seg_agg = df_agg"
   ]
  },
  {
   "cell_type": "code",
   "execution_count": 22,
   "id": "6bc1e625e78aa62a",
   "metadata": {
    "ExecuteTime": {
     "end_time": "2024-01-23T15:12:38.821717300Z",
     "start_time": "2024-01-23T15:12:38.798706200Z"
    },
    "collapsed": false
   },
   "outputs": [],
   "source": [
    "df = pd.concat([eng_seg_agg, fre_seg_agg, kor_seg_agg, chn_seg_agg])"
   ]
  },
  {
   "cell_type": "code",
   "execution_count": 23,
   "id": "302745589a3e3d47",
   "metadata": {
    "ExecuteTime": {
     "end_time": "2024-01-23T15:12:38.833791300Z",
     "start_time": "2024-01-23T15:12:38.813695100Z"
    },
    "collapsed": false
   },
   "outputs": [],
   "source": [
    "def word_count(text):\n",
    "    return len(text.split(\" \"))"
   ]
  },
  {
   "cell_type": "code",
   "execution_count": 24,
   "id": "3d6e83893962acc3",
   "metadata": {
    "ExecuteTime": {
     "end_time": "2024-01-23T15:12:38.861235Z",
     "start_time": "2024-01-23T15:12:38.830791100Z"
    },
    "collapsed": false
   },
   "outputs": [],
   "source": [
    "df[\"word_count\"] = df[\"feature\"].map(word_count)\n",
    "df[\"source\"] = \"normal\""
   ]
  },
  {
   "cell_type": "code",
   "execution_count": 25,
   "id": "bcbc9947a423075",
   "metadata": {
    "ExecuteTime": {
     "end_time": "2024-01-23T15:12:39.277405400Z",
     "start_time": "2024-01-23T15:12:38.860734800Z"
    },
    "collapsed": false
   },
   "outputs": [],
   "source": [
    "df.to_parquet(\"../dataset/consolidated.parquet\")"
   ]
  },
  {
   "cell_type": "code",
   "execution_count": 26,
   "id": "51c556c9d4f8870",
   "metadata": {
    "ExecuteTime": {
     "end_time": "2024-01-23T15:12:39.292928600Z",
     "start_time": "2024-01-23T15:12:39.277906500Z"
    },
    "collapsed": false
   },
   "outputs": [
    {
     "data": {
      "text/html": [
       "<div>\n",
       "<style scoped>\n",
       "    .dataframe tbody tr th:only-of-type {\n",
       "        vertical-align: middle;\n",
       "    }\n",
       "\n",
       "    .dataframe tbody tr th {\n",
       "        vertical-align: top;\n",
       "    }\n",
       "\n",
       "    .dataframe thead th {\n",
       "        text-align: right;\n",
       "    }\n",
       "</style>\n",
       "<table border=\"1\" class=\"dataframe\">\n",
       "  <thead>\n",
       "    <tr style=\"text-align: right;\">\n",
       "      <th></th>\n",
       "      <th>title_info</th>\n",
       "      <th>language</th>\n",
       "      <th>feature</th>\n",
       "      <th>label</th>\n",
       "      <th>word_count</th>\n",
       "      <th>source</th>\n",
       "    </tr>\n",
       "  </thead>\n",
       "  <tbody>\n",
       "    <tr>\n",
       "      <th>0</th>\n",
       "      <td>$11.4T Investor Coalition Pressures Fast Food ...</td>\n",
       "      <td>English</td>\n",
       "      <td>$11.4T Investor Coalition Pressures Fast Food ...</td>\n",
       "      <td>2.0</td>\n",
       "      <td>60</td>\n",
       "      <td>normal</td>\n",
       "    </tr>\n",
       "    <tr>\n",
       "      <th>1</th>\n",
       "      <td>100 EU Cities Commit to Reach Climate Neutrali...</td>\n",
       "      <td>English</td>\n",
       "      <td>100 EU Cities Commit to Reach Climate Neutrali...</td>\n",
       "      <td>2.0</td>\n",
       "      <td>124</td>\n",
       "      <td>normal</td>\n",
       "    </tr>\n",
       "    <tr>\n",
       "      <th>2</th>\n",
       "      <td>3M to Invest $1 Billion Towards Achieving New ...</td>\n",
       "      <td>English</td>\n",
       "      <td>3M to Invest $1 Billion Towards Achieving New ...</td>\n",
       "      <td>2.0</td>\n",
       "      <td>146</td>\n",
       "      <td>normal</td>\n",
       "    </tr>\n",
       "    <tr>\n",
       "      <th>3</th>\n",
       "      <td>Accenture Announces New Sustainability Goals, ...</td>\n",
       "      <td>English</td>\n",
       "      <td>Accenture Announces New Sustainability Goals, ...</td>\n",
       "      <td>2.0</td>\n",
       "      <td>29</td>\n",
       "      <td>normal</td>\n",
       "    </tr>\n",
       "    <tr>\n",
       "      <th>4</th>\n",
       "      <td>Accenture Continues Series of ESG Acquisitions...</td>\n",
       "      <td>English</td>\n",
       "      <td>Accenture Continues Series of ESG Acquisitions...</td>\n",
       "      <td>0.0</td>\n",
       "      <td>40</td>\n",
       "      <td>normal</td>\n",
       "    </tr>\n",
       "    <tr>\n",
       "      <th>...</th>\n",
       "      <td>...</td>\n",
       "      <td>...</td>\n",
       "      <td>...</td>\n",
       "      <td>...</td>\n",
       "      <td>...</td>\n",
       "      <td>...</td>\n",
       "    </tr>\n",
       "    <tr>\n",
       "      <th>892</th>\n",
       "      <td>每年只開7個月，竟能賺進10億元！這家百年老店取螯不殺蟹，用「永續思維」和「賠錢心態」賣出長...</td>\n",
       "      <td>Chinese</td>\n",
       "      <td>Open only 7 months a year, but can earn into 1...</td>\n",
       "      <td>2.0</td>\n",
       "      <td>1392</td>\n",
       "      <td>normal</td>\n",
       "    </tr>\n",
       "    <tr>\n",
       "      <th>893</th>\n",
       "      <td>中油首批碳中和原油抵台，可達88座大安森林公園1年吸碳量</td>\n",
       "      <td>Chinese</td>\n",
       "      <td>CNPC's first batch of carbon-neutral crude oil...</td>\n",
       "      <td>1.0</td>\n",
       "      <td>772</td>\n",
       "      <td>normal</td>\n",
       "    </tr>\n",
       "    <tr>\n",
       "      <th>894</th>\n",
       "      <td>長榮經營權兄弟相爭》殷琪手握長榮鋼關鍵票數「會支持最維護股東權益的那一方」</td>\n",
       "      <td>Chinese</td>\n",
       "      <td>Evergreen's management rights brothers fight e...</td>\n",
       "      <td>0.0</td>\n",
       "      <td>760</td>\n",
       "      <td>normal</td>\n",
       "    </tr>\n",
       "    <tr>\n",
       "      <th>895</th>\n",
       "      <td>張國煒寵員工無極限！星宇9月「調薪5％」獲證實　邊境鬆綁明年能獲利？他曝「這時機」才行</td>\n",
       "      <td>Chinese</td>\n",
       "      <td>Zhang Guowei favors his employees to no end! S...</td>\n",
       "      <td>0.0</td>\n",
       "      <td>572</td>\n",
       "      <td>normal</td>\n",
       "    </tr>\n",
       "    <tr>\n",
       "      <th>896</th>\n",
       "      <td>歐洲大客戶7天連發4封追殺令「不減碳就砍單」！300家中小企業深度調查「台灣沒本錢躺平」</td>\n",
       "      <td>Chinese</td>\n",
       "      <td>Europe's major customers 7 days in a row to se...</td>\n",
       "      <td>2.0</td>\n",
       "      <td>939</td>\n",
       "      <td>normal</td>\n",
       "    </tr>\n",
       "  </tbody>\n",
       "</table>\n",
       "<p>1585 rows × 6 columns</p>\n",
       "</div>"
      ],
      "text/plain": [
       "                                            title_info language  \\\n",
       "0    $11.4T Investor Coalition Pressures Fast Food ...  English   \n",
       "1    100 EU Cities Commit to Reach Climate Neutrali...  English   \n",
       "2    3M to Invest $1 Billion Towards Achieving New ...  English   \n",
       "3    Accenture Announces New Sustainability Goals, ...  English   \n",
       "4    Accenture Continues Series of ESG Acquisitions...  English   \n",
       "..                                                 ...      ...   \n",
       "892  每年只開7個月，竟能賺進10億元！這家百年老店取螯不殺蟹，用「永續思維」和「賠錢心態」賣出長...  Chinese   \n",
       "893                       中油首批碳中和原油抵台，可達88座大安森林公園1年吸碳量  Chinese   \n",
       "894              長榮經營權兄弟相爭》殷琪手握長榮鋼關鍵票數「會支持最維護股東權益的那一方」  Chinese   \n",
       "895        張國煒寵員工無極限！星宇9月「調薪5％」獲證實　邊境鬆綁明年能獲利？他曝「這時機」才行  Chinese   \n",
       "896       歐洲大客戶7天連發4封追殺令「不減碳就砍單」！300家中小企業深度調查「台灣沒本錢躺平」  Chinese   \n",
       "\n",
       "                                               feature  label  word_count  \\\n",
       "0    $11.4T Investor Coalition Pressures Fast Food ...    2.0          60   \n",
       "1    100 EU Cities Commit to Reach Climate Neutrali...    2.0         124   \n",
       "2    3M to Invest $1 Billion Towards Achieving New ...    2.0         146   \n",
       "3    Accenture Announces New Sustainability Goals, ...    2.0          29   \n",
       "4    Accenture Continues Series of ESG Acquisitions...    0.0          40   \n",
       "..                                                 ...    ...         ...   \n",
       "892  Open only 7 months a year, but can earn into 1...    2.0        1392   \n",
       "893  CNPC's first batch of carbon-neutral crude oil...    1.0         772   \n",
       "894  Evergreen's management rights brothers fight e...    0.0         760   \n",
       "895  Zhang Guowei favors his employees to no end! S...    0.0         572   \n",
       "896  Europe's major customers 7 days in a row to se...    2.0         939   \n",
       "\n",
       "     source  \n",
       "0    normal  \n",
       "1    normal  \n",
       "2    normal  \n",
       "3    normal  \n",
       "4    normal  \n",
       "..      ...  \n",
       "892  normal  \n",
       "893  normal  \n",
       "894  normal  \n",
       "895  normal  \n",
       "896  normal  \n",
       "\n",
       "[1585 rows x 6 columns]"
      ]
     },
     "execution_count": 26,
     "metadata": {},
     "output_type": "execute_result"
    }
   ],
   "source": [
    "df"
   ]
  },
  {
   "attachments": {},
   "cell_type": "markdown",
   "id": "fc2aa0813b68df9c",
   "metadata": {
    "collapsed": false
   },
   "source": []
  }
 ],
 "metadata": {
  "kernelspec": {
   "display_name": "Python 3",
   "language": "python",
   "name": "python3"
  },
  "language_info": {
   "codemirror_mode": {
    "name": "ipython",
    "version": 3
   },
   "file_extension": ".py",
   "mimetype": "text/x-python",
   "name": "python",
   "nbconvert_exporter": "python",
   "pygments_lexer": "ipython3",
   "version": "3.9.18"
  }
 },
 "nbformat": 4,
 "nbformat_minor": 5
}
