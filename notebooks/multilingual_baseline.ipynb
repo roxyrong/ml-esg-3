{
 "cells": [
  {
   "cell_type": "code",
   "execution_count": 8,
   "metadata": {},
   "outputs": [
    {
     "name": "stdout",
     "output_type": "stream",
     "text": [
      "time: 4.45 ms (started: 2024-01-02 16:20:25 +08:00)\n"
     ]
    }
   ],
   "source": [
    "import gc\n",
    "import os\n",
    "from dotenv import load_dotenv\n",
    "import numpy as np\n",
    "import pandas as pd\n",
    "import seaborn as sns\n",
    "import matplotlib.pyplot as plt\n",
    "import torch\n",
    "from torch.utils.data import DataLoader\n",
    "from tqdm.notebook import tqdm_notebook\n",
    "from transformers import BertTokenizer, BertModel\n",
    "from transformers import AutoTokenizer, AutoModelForSequenceClassification\n",
    "from transformers import TrainingArguments, Trainer\n",
    "from datasets import Dataset\n",
    "\n",
    "from sklearn.model_selection import StratifiedKFold\n",
    "from sklearn.linear_model import LogisticRegression\n",
    "from sklearn.metrics import precision_score, recall_score, f1_score, confusion_matrix\n",
    "from sklearn.utils import resample\n",
    "from sklearn.utils.class_weight import compute_class_weight\n",
    "\n",
    "tqdm_notebook.pandas()"
   ]
  },
  {
   "cell_type": "code",
   "execution_count": 7,
   "metadata": {},
   "outputs": [
    {
     "name": "stdout",
     "output_type": "stream",
     "text": [
      "The autotime extension is already loaded. To reload it, use:\n",
      "  %reload_ext autotime\n",
      "time: 3.05 ms (started: 2024-01-02 16:19:38 +08:00)\n"
     ]
    }
   ],
   "source": [
    "%load_ext autotime\n",
    "load_dotenv()\n",
    "\n",
    "HF_TOKEN = os.getenv(\"HF_TOKEN\")"
   ]
  },
  {
   "cell_type": "code",
   "execution_count": 3,
   "metadata": {},
   "outputs": [
    {
     "name": "stdout",
     "output_type": "stream",
     "text": [
      "time: 1.8 ms (started: 2024-01-02 16:16:52 +08:00)\n"
     ]
    }
   ],
   "source": [
    "device = \"mps\""
   ]
  },
  {
   "cell_type": "code",
   "execution_count": 11,
   "metadata": {},
   "outputs": [
    {
     "name": "stdout",
     "output_type": "stream",
     "text": [
      "time: 119 ms (started: 2024-01-02 16:21:21 +08:00)\n"
     ]
    }
   ],
   "source": [
    "data_df = pd.read_parquet(\"dataset/train_df.parquet\")\n",
    "data_df[\"sentence\"] = data_df[\"title\"] + \" || \" + data_df[\"content\"]\n",
    "data_df[\"stratified_col\"] = data_df[\"impact_length_idx\"].astype(str) + data_df[\"language\"]\n",
    "sentences = list(data_df[\"sentence\"])"
   ]
  },
  {
   "cell_type": "code",
   "execution_count": 10,
   "metadata": {},
   "outputs": [
    {
     "name": "stdout",
     "output_type": "stream",
     "text": [
      "time: 2.29 s (started: 2024-01-02 16:20:58 +08:00)\n"
     ]
    }
   ],
   "source": [
    "tokenizer = BertTokenizer.from_pretrained('bert-base-multilingual-cased', token=HF_TOKEN)\n",
    "model = BertModel.from_pretrained(\"bert-base-multilingual-cased\", token=HF_TOKEN).to(device)"
   ]
  },
  {
   "cell_type": "code",
   "execution_count": 24,
   "metadata": {},
   "outputs": [],
   "source": [
    "batch_size = 64\n",
    "\n",
    "data_loader = DataLoader(sentences, batch_size=batch_size, shuffle=True)\n",
    "\n",
    "embeddings = []\n",
    "with torch.no_grad():\n",
    "    for batch in data_loader:\n",
    "        encoded_inputs = tokenizer.batch_encode_plus(\n",
    "          batch,\n",
    "          padding='max_length',\n",
    "          truncation=True,\n",
    "          return_tensors='pt'\n",
    "        )\n",
    "        encoded_inputs = {key: val.to(model.device) for key, val in encoded_inputs.items()}\n",
    "\n",
    "        output = model(**encoded_inputs)\n",
    "        hidden_states = output.last_hidden_state\n",
    "        cls_embeddings = hidden_states[:, 0, :]\n",
    "        embeddings.extend(cls_embeddings.detach().cpu().numpy())\n",
    "\n",
    "        gc.collect()\n",
    "        torch.mps.empty_cache()"
   ]
  },
  {
   "cell_type": "code",
   "execution_count": 20,
   "metadata": {},
   "outputs": [
    {
     "name": "stdout",
     "output_type": "stream",
     "text": [
      "time: 8.49 ms (started: 2024-01-02 16:29:21 +08:00)\n"
     ]
    }
   ],
   "source": [
    "data_df[\"embedding\"] = embeddings"
   ]
  },
  {
   "cell_type": "code",
   "execution_count": 21,
   "metadata": {},
   "outputs": [
    {
     "name": "stdout",
     "output_type": "stream",
     "text": [
      "time: 632 µs (started: 2024-01-02 16:29:21 +08:00)\n"
     ]
    }
   ],
   "source": [
    "def upsample_train_dataset(df):\n",
    "    class_counts = df['stratified_col'].value_counts()\n",
    "    majority_class = class_counts.idxmax()\n",
    "    majority_count = class_counts.max()\n",
    "\n",
    "    upsampled_dataframes = []\n",
    "\n",
    "    for class_label in df['stratified_col'].unique():\n",
    "        class_df = df[df['stratified_col'] == class_label]\n",
    "\n",
    "        if class_label == majority_class:\n",
    "            upsampled_dataframes.append(class_df)\n",
    "        else:\n",
    "            upsampled_class_df = resample(class_df,\n",
    "                                          replace=True,\n",
    "                                          n_samples=majority_count,\n",
    "                                          random_state=314)\n",
    "            upsampled_dataframes.append(upsampled_class_df)\n",
    "\n",
    "    upsampled_df = pd.concat(upsampled_dataframes)\n",
    "\n",
    "    upsampled_df = upsampled_df.sample(frac=1, random_state=314).reset_index(drop=True)\n",
    "    return upsampled_df"
   ]
  },
  {
   "cell_type": "code",
   "execution_count": 22,
   "metadata": {},
   "outputs": [
    {
     "name": "stdout",
     "output_type": "stream",
     "text": [
      "accuracy: 0.31679531469286404\n",
      "precision: 0.3293002019832011\n",
      "recall: 0.31679531469286404\n",
      "f1: 0.31732918397689874\n",
      "time: 3.12 s (started: 2024-01-02 16:29:21 +08:00)\n"
     ]
    }
   ],
   "source": [
    "accuracys = []\n",
    "precisions = []\n",
    "recalls = []\n",
    "f1s = []\n",
    "predictions = []\n",
    "\n",
    "skf = StratifiedKFold(n_splits=5)\n",
    "for train_idx, valid_idx in skf.split(data_df[\"embedding\"],\n",
    "                                      data_df[\"stratified_col\"]):\n",
    "  train_df = data_df.loc[train_idx]\n",
    "  valid_df = data_df.loc[valid_idx]\n",
    "\n",
    "  resampled_train_df = upsample_train_dataset(train_df)\n",
    "\n",
    "  X_train = np.stack(resampled_train_df[\"embedding\"])\n",
    "  y_train = np.stack(resampled_train_df[\"impact_length_idx\"])\n",
    "  X_valid = np.stack(valid_df[\"embedding\"])\n",
    "  y_valid = np.stack(valid_df[\"impact_length_idx\"])\n",
    "\n",
    "  lr = LogisticRegression(random_state=314,\n",
    "                          C = 0.005,\n",
    "                          max_iter=500).fit(X_train, y_train)\n",
    "\n",
    "  y_pred = lr.predict(X_valid)\n",
    "  accuracy = lr.score(X_valid, y_valid)\n",
    "  precision = precision_score(y_valid, y_pred, average='weighted')\n",
    "  recall = recall_score(y_valid, y_pred, average='weighted')\n",
    "  f1 = f1_score(y_valid, y_pred, average='weighted')\n",
    "\n",
    "  accuracys.append(accuracy)\n",
    "  precisions.append(precision)\n",
    "  recalls.append(recall)\n",
    "  f1s.append(f1)\n",
    "\n",
    "print(\"accuracy:\", np.mean(accuracys))\n",
    "print(\"precision:\",np.mean(precisions))\n",
    "print(\"recall:\", np.mean(recalls))\n",
    "print(\"f1:\", np.mean(f1s))"
   ]
  },
  {
   "cell_type": "code",
   "execution_count": 23,
   "metadata": {},
   "outputs": [
    {
     "data": {
      "text/plain": [
       "Text(0.5, 1.0, 'Confusion Matrix')"
      ]
     },
     "execution_count": 23,
     "metadata": {},
     "output_type": "execute_result"
    },
    {
     "data": {
      "image/png": "[encoded data removed]",
      "text/plain": [
       "<Figure size 300x300 with 2 Axes>"
      ]
     },
     "metadata": {},
     "output_type": "display_data"
    },
    {
     "name": "stdout",
     "output_type": "stream",
     "text": [
      "time: 1.42 s (started: 2024-01-02 16:29:24 +08:00)\n"
     ]
    }
   ],
   "source": [
    "cm = confusion_matrix(y_valid, y_pred)\n",
    "\n",
    "plt.figure(figsize=(3,3))\n",
    "sns.heatmap(cm, annot=True, fmt=\"0\", linewidths=.5,\n",
    "            square = True, cmap = \"Blues\");\n",
    "plt.ylabel(\"Actual label\")\n",
    "plt.xlabel(\"Predicted label\")\n",
    "plt.xticks(ticks=np.arange(3) + 0.5, labels=lr.classes_, rotation=45, ha='right')\n",
    "plt.yticks(ticks=np.arange(3) + 0.5, labels=lr.classes_, rotation=0)\n",
    "\n",
    "all_sample_title = \"Confusion Matrix\"\n",
    "plt.title(all_sample_title, size = 15)"
   ]
  },
  {
   "cell_type": "code",
   "execution_count": null,
   "metadata": {},
   "outputs": [],
   "source": []
  }
 ],
 "metadata": {
  "kernelspec": {
   "display_name": "torch",
   "language": "python",
   "name": "python3"
  },
  "language_info": {
   "codemirror_mode": {
    "name": "ipython",
    "version": 3
   },
   "file_extension": ".py",
   "mimetype": "text/x-python",
   "name": "python",
   "nbconvert_exporter": "python",
   "pygments_lexer": "ipython3",
   "version": "3.9.18"
  },
  "orig_nbformat": 4
 },
 "nbformat": 4,
 "nbformat_minor": 2
}
