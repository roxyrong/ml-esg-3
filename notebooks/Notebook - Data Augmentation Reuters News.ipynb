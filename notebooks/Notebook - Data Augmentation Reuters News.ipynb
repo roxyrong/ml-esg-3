{
 "cells": [
  {
   "attachments": {},
   "cell_type": "markdown",
   "metadata": {},
   "source": [
    "# Data Augmentation with Reuter News"
   ]
  },
  {
   "cell_type": "code",
   "execution_count": 1,
   "metadata": {},
   "outputs": [],
   "source": [
    "import re\n",
    "import pandas as pd\n",
    "import numpy as np\n",
    "from nltk.corpus import stopwords\n",
    "from datasets import load_dataset\n",
    "from nltk.stem.snowball import SnowballStemmer\n",
    "st = SnowballStemmer('english')\n",
    "\n",
    "stop_words = set(stopwords.words('english'))"
   ]
  },
  {
   "attachments": {},
   "cell_type": "markdown",
   "metadata": {},
   "source": [
    "### Load Dataset"
   ]
  },
  {
   "cell_type": "code",
   "execution_count": 5,
   "metadata": {},
   "outputs": [
    {
     "data": {
      "application/vnd.jupyter.widget-view+json": {
       "model_id": "f365ea28e6d44e2fa8ec9b227023d784",
       "version_major": 2,
       "version_minor": 0
      },
      "text/plain": [
       "Downloading data:   0%|          | 0.00/2.93M [00:00<?, ?B/s]"
      ]
     },
     "metadata": {},
     "output_type": "display_data"
    },
    {
     "data": {
      "application/vnd.jupyter.widget-view+json": {
       "model_id": "c62a7cf7d46249159d1783fc934a5ac7",
       "version_major": 2,
       "version_minor": 0
      },
      "text/plain": [
       "Downloading data:   0%|          | 0.00/7.06M [00:00<?, ?B/s]"
      ]
     },
     "metadata": {},
     "output_type": "display_data"
    },
    {
     "data": {
      "application/vnd.jupyter.widget-view+json": {
       "model_id": "ec840bef7adb45288888cbae03414f06",
       "version_major": 2,
       "version_minor": 0
      },
      "text/plain": [
       "Downloading data:   0%|          | 0.00/517k [00:00<?, ?B/s]"
      ]
     },
     "metadata": {},
     "output_type": "display_data"
    },
    {
     "data": {
      "application/vnd.jupyter.widget-view+json": {
       "model_id": "4b50304e485f4ba4ba0e64f53ce18573",
       "version_major": 2,
       "version_minor": 0
      },
      "text/plain": [
       "Generating test split:   0%|          | 0/6188 [00:00<?, ? examples/s]"
      ]
     },
     "metadata": {},
     "output_type": "display_data"
    },
    {
     "data": {
      "application/vnd.jupyter.widget-view+json": {
       "model_id": "b05307e5a9fb489db66da584b743d01a",
       "version_major": 2,
       "version_minor": 0
      },
      "text/plain": [
       "Generating train split:   0%|          | 0/13625 [00:00<?, ? examples/s]"
      ]
     },
     "metadata": {},
     "output_type": "display_data"
    },
    {
     "data": {
      "application/vnd.jupyter.widget-view+json": {
       "model_id": "4d42e4ff04fe4a488691da81d223655b",
       "version_major": 2,
       "version_minor": 0
      },
      "text/plain": [
       "Generating unused split:   0%|          | 0/722 [00:00<?, ? examples/s]"
      ]
     },
     "metadata": {},
     "output_type": "display_data"
    }
   ],
   "source": [
    "# load dataset\n",
    "dataset = load_dataset(\"reuters21578\",\"ModLewis\")"
   ]
  },
  {
   "cell_type": "code",
   "execution_count": 93,
   "metadata": {},
   "outputs": [
    {
     "name": "stdout",
     "output_type": "stream",
     "text": [
      "The dataset has 19813 news.\n",
      "The dataset has 19595 news.\n",
      "The dataset has 17712 news.\n"
     ]
    }
   ],
   "source": [
    "train_df = dataset[\"train\"].to_pandas()\n",
    "test_df = dataset[\"test\"].to_pandas()\n",
    "\n",
    "df = pd.concat([train_df, test_df]).reset_index(drop=True)\n",
    "df = df[['text', 'text_type', \"title\"]]\n",
    "\n",
    "print(f\"The dataset has {len(df)} news.\")\n",
    "df = df.drop_duplicates()\n",
    "print(f\"The dataset has {len(df)} news.\")\n",
    "# cleaning up BRIEF and non-text\n",
    "df = df[df[\"text_type\"] == '\"NORM\"'].copy()\n",
    "print(f\"The dataset has {len(df)} news.\")"
   ]
  },
  {
   "cell_type": "code",
   "execution_count": 94,
   "metadata": {},
   "outputs": [
    {
     "name": "stdout",
     "output_type": "stream",
     "text": [
      "The dataset has 17410 news.\n"
     ]
    },
    {
     "data": {
      "text/plain": [
       "count    17410.000000\n",
       "mean       131.177714\n",
       "std        119.089422\n",
       "min         20.000000\n",
       "25%         60.000000\n",
       "50%         90.000000\n",
       "75%        163.000000\n",
       "max        713.000000\n",
       "Name: text_wc, dtype: float64"
      ]
     },
     "execution_count": 94,
     "metadata": {},
     "output_type": "execute_result"
    }
   ],
   "source": [
    "def word_count(sentence):\n",
    "    if sentence is not None:\n",
    "        return len(sentence.split(\" \"))\n",
    "    return 0\n",
    "\n",
    "df[\"text_wc\"] = df[\"text\"].apply(word_count)\n",
    "min_wc = np.percentile(df[\"text_wc\"], 1)\n",
    "max_wc = np.percentile(df[\"text_wc\"], 99)\n",
    "df = df[(df[\"text_wc\"] >= min_wc) & (df[\"text_wc\"] <= max_wc)].copy()\n",
    "print(f\"The dataset has {len(df)} news.\")\n",
    "df[\"text_wc\"].describe()"
   ]
  },
  {
   "cell_type": "code",
   "execution_count": 132,
   "metadata": {},
   "outputs": [],
   "source": [
    "def clean_data(df, col):\n",
    "\n",
    "    # change to lower and remove spaces on either side\n",
    "    df[col] = df[col].apply(lambda x: x.lower().strip())\n",
    "    # remove ^lt > pattern\n",
    "    df[col] = df[col].apply(lambda x: re.sub(r'&lt;[^>]+>', '', x))\n",
    "    # remove extra spaces in between\n",
    "    df[col] = df[col].apply(lambda x: re.sub(' +', ' ', x))\n",
    "\n",
    "    return df\n",
    "\n",
    "df = clean_data(df, \"title\")\n",
    "df[\"text\"] = df[\"text\"].str.replace(\"\\n\", \" \")\n",
    "df = clean_data(df, \"text\")"
   ]
  },
  {
   "cell_type": "code",
   "execution_count": 120,
   "metadata": {},
   "outputs": [],
   "source": [
    "df = df.reset_index(drop=True)"
   ]
  },
  {
   "attachments": {},
   "cell_type": "markdown",
   "metadata": {},
   "source": [
    "### Filter down to ESG related News"
   ]
  },
  {
   "cell_type": "code",
   "execution_count": 110,
   "metadata": {},
   "outputs": [],
   "source": [
    "from transformers import BertTokenizer, BertForSequenceClassification, pipeline\n",
    "\n",
    "finbert = BertForSequenceClassification.from_pretrained('yiyanghkust/finbert-esg',num_labels=4)\n",
    "tokenizer = BertTokenizer.from_pretrained('yiyanghkust/finbert-esg',\n",
    "                                          truncation=True,\n",
    "                                          padding='max_length',\n",
    "                                          max_length=512)\n",
    "esg_pipeline = pipeline(\"text-classification\", \n",
    "                        model=finbert, \n",
    "                        tokenizer=tokenizer)"
   ]
  },
  {
   "cell_type": "code",
   "execution_count": 122,
   "metadata": {},
   "outputs": [],
   "source": [
    "batch = 128\n",
    "for i in range(0, len(df) // batch + 1):\n",
    "    sentences = list(df.loc[i * batch: (i + 1) * batch][\"text\"])\n",
    "    sentences = [s[:512] for s in sentences]\n",
    "    results = esg_pipeline(sentences)\n",
    "    df.loc[i * batch: (i + 1) * batch, \"esg_label\"] = [x[\"label\"] for x in results]\n",
    "    df.loc[i * batch: (i + 1) * batch, \"esg_score\"] = [x[\"score\"] for x in results]"
   ]
  },
  {
   "cell_type": "code",
   "execution_count": 5,
   "metadata": {},
   "outputs": [
    {
     "data": {
      "text/html": [
       "<div>\n",
       "<style scoped>\n",
       "    .dataframe tbody tr th:only-of-type {\n",
       "        vertical-align: middle;\n",
       "    }\n",
       "\n",
       "    .dataframe tbody tr th {\n",
       "        vertical-align: top;\n",
       "    }\n",
       "\n",
       "    .dataframe thead th {\n",
       "        text-align: right;\n",
       "    }\n",
       "</style>\n",
       "<table border=\"1\" class=\"dataframe\">\n",
       "  <thead>\n",
       "    <tr style=\"text-align: right;\">\n",
       "      <th></th>\n",
       "      <th>count</th>\n",
       "      <th>mean</th>\n",
       "      <th>std</th>\n",
       "      <th>min</th>\n",
       "      <th>25%</th>\n",
       "      <th>50%</th>\n",
       "      <th>75%</th>\n",
       "      <th>max</th>\n",
       "    </tr>\n",
       "    <tr>\n",
       "      <th>esg_label</th>\n",
       "      <th></th>\n",
       "      <th></th>\n",
       "      <th></th>\n",
       "      <th></th>\n",
       "      <th></th>\n",
       "      <th></th>\n",
       "      <th></th>\n",
       "      <th></th>\n",
       "    </tr>\n",
       "  </thead>\n",
       "  <tbody>\n",
       "    <tr>\n",
       "      <th>Environmental</th>\n",
       "      <td>445.0</td>\n",
       "      <td>0.737755</td>\n",
       "      <td>0.176262</td>\n",
       "      <td>0.330253</td>\n",
       "      <td>0.589691</td>\n",
       "      <td>0.750825</td>\n",
       "      <td>0.907906</td>\n",
       "      <td>0.991086</td>\n",
       "    </tr>\n",
       "    <tr>\n",
       "      <th>Governance</th>\n",
       "      <td>89.0</td>\n",
       "      <td>0.522634</td>\n",
       "      <td>0.102706</td>\n",
       "      <td>0.350060</td>\n",
       "      <td>0.455747</td>\n",
       "      <td>0.492664</td>\n",
       "      <td>0.590920</td>\n",
       "      <td>0.830855</td>\n",
       "    </tr>\n",
       "    <tr>\n",
       "      <th>None</th>\n",
       "      <td>14314.0</td>\n",
       "      <td>0.938402</td>\n",
       "      <td>0.111449</td>\n",
       "      <td>0.335170</td>\n",
       "      <td>0.954603</td>\n",
       "      <td>0.984908</td>\n",
       "      <td>0.991310</td>\n",
       "      <td>0.995978</td>\n",
       "    </tr>\n",
       "    <tr>\n",
       "      <th>Social</th>\n",
       "      <td>2562.0</td>\n",
       "      <td>0.753372</td>\n",
       "      <td>0.170418</td>\n",
       "      <td>0.346135</td>\n",
       "      <td>0.611664</td>\n",
       "      <td>0.777065</td>\n",
       "      <td>0.913833</td>\n",
       "      <td>0.988577</td>\n",
       "    </tr>\n",
       "  </tbody>\n",
       "</table>\n",
       "</div>"
      ],
      "text/plain": [
       "                 count      mean       std       min       25%       50%  \\\n",
       "esg_label                                                                  \n",
       "Environmental    445.0  0.737755  0.176262  0.330253  0.589691  0.750825   \n",
       "Governance        89.0  0.522634  0.102706  0.350060  0.455747  0.492664   \n",
       "None           14314.0  0.938402  0.111449  0.335170  0.954603  0.984908   \n",
       "Social          2562.0  0.753372  0.170418  0.346135  0.611664  0.777065   \n",
       "\n",
       "                    75%       max  \n",
       "esg_label                          \n",
       "Environmental  0.907906  0.991086  \n",
       "Governance     0.590920  0.830855  \n",
       "None           0.991310  0.995978  \n",
       "Social         0.913833  0.988577  "
      ]
     },
     "execution_count": 5,
     "metadata": {},
     "output_type": "execute_result"
    }
   ],
   "source": [
    "df.groupby(\"esg_label\")[\"esg_score\"].describe()"
   ]
  },
  {
   "cell_type": "code",
   "execution_count": null,
   "metadata": {},
   "outputs": [],
   "source": [
    "df.to_parquet(\"../dataset/temp_reuter.parquet\")"
   ]
  },
  {
   "cell_type": "code",
   "execution_count": 139,
   "metadata": {},
   "outputs": [],
   "source": [
    "df = pd.read_parquet(\"../dataset/temp_reuter.parquet\")"
   ]
  },
  {
   "cell_type": "code",
   "execution_count": 140,
   "metadata": {},
   "outputs": [
    {
     "data": {
      "text/html": [
       "<div>\n",
       "<style scoped>\n",
       "    .dataframe tbody tr th:only-of-type {\n",
       "        vertical-align: middle;\n",
       "    }\n",
       "\n",
       "    .dataframe tbody tr th {\n",
       "        vertical-align: top;\n",
       "    }\n",
       "\n",
       "    .dataframe thead th {\n",
       "        text-align: right;\n",
       "    }\n",
       "</style>\n",
       "<table border=\"1\" class=\"dataframe\">\n",
       "  <thead>\n",
       "    <tr style=\"text-align: right;\">\n",
       "      <th></th>\n",
       "      <th>text</th>\n",
       "      <th>text_type</th>\n",
       "      <th>title</th>\n",
       "      <th>text_wc</th>\n",
       "      <th>esg_label</th>\n",
       "      <th>esg_score</th>\n",
       "    </tr>\n",
       "  </thead>\n",
       "  <tbody>\n",
       "    <tr>\n",
       "      <th>0</th>\n",
       "      <td>showers continued throughout the week in the b...</td>\n",
       "      <td>\"NORM\"</td>\n",
       "      <td>bahia cocoa review</td>\n",
       "      <td>497</td>\n",
       "      <td>Environmental</td>\n",
       "      <td>0.612098</td>\n",
       "    </tr>\n",
       "    <tr>\n",
       "      <th>1</th>\n",
       "      <td>standard oil co and bp north america inc said ...</td>\n",
       "      <td>\"NORM\"</td>\n",
       "      <td>standard oil to form financial unit</td>\n",
       "      <td>74</td>\n",
       "      <td>None</td>\n",
       "      <td>0.986776</td>\n",
       "    </tr>\n",
       "    <tr>\n",
       "      <th>2</th>\n",
       "      <td>texas commerce bancshares inc's texas commerce...</td>\n",
       "      <td>\"NORM\"</td>\n",
       "      <td>texas commerce bancshares files plan</td>\n",
       "      <td>58</td>\n",
       "      <td>None</td>\n",
       "      <td>0.960852</td>\n",
       "    </tr>\n",
       "    <tr>\n",
       "      <th>3</th>\n",
       "      <td>bankamerica corp is not under pressure to act ...</td>\n",
       "      <td>\"NORM\"</td>\n",
       "      <td>talking point/bankamerica equity offer</td>\n",
       "      <td>466</td>\n",
       "      <td>None</td>\n",
       "      <td>0.989025</td>\n",
       "    </tr>\n",
       "    <tr>\n",
       "      <th>4</th>\n",
       "      <td>the u.s. agriculture department reported the f...</td>\n",
       "      <td>\"NORM\"</td>\n",
       "      <td>national average prices for farmer-owned reserve</td>\n",
       "      <td>466</td>\n",
       "      <td>None</td>\n",
       "      <td>0.963944</td>\n",
       "    </tr>\n",
       "    <tr>\n",
       "      <th>...</th>\n",
       "      <td>...</td>\n",
       "      <td>...</td>\n",
       "      <td>...</td>\n",
       "      <td>...</td>\n",
       "      <td>...</td>\n",
       "      <td>...</td>\n",
       "    </tr>\n",
       "    <tr>\n",
       "      <th>17405</th>\n",
       "      <td>the japan/india-pakistan-gulf/japan shipping c...</td>\n",
       "      <td>\"NORM\"</td>\n",
       "      <td>japan/india conference cuts gulf war risk charges</td>\n",
       "      <td>74</td>\n",
       "      <td>Social</td>\n",
       "      <td>0.476759</td>\n",
       "    </tr>\n",
       "    <tr>\n",
       "      <th>17406</th>\n",
       "      <td>the soviet union's industrial output is growin...</td>\n",
       "      <td>\"NORM\"</td>\n",
       "      <td>soviet industrial growth/trade slower in 1987</td>\n",
       "      <td>346</td>\n",
       "      <td>None</td>\n",
       "      <td>0.991287</td>\n",
       "    </tr>\n",
       "    <tr>\n",
       "      <th>17407</th>\n",
       "      <td>six black miners have been killed and two inju...</td>\n",
       "      <td>\"NORM\"</td>\n",
       "      <td>six killed in south african gold mine accident</td>\n",
       "      <td>76</td>\n",
       "      <td>None</td>\n",
       "      <td>0.740564</td>\n",
       "    </tr>\n",
       "    <tr>\n",
       "      <th>17408</th>\n",
       "      <td>the prospect of a dominant alliance of sociali...</td>\n",
       "      <td>\"NORM\"</td>\n",
       "      <td>projections show swiss voters want tried parties</td>\n",
       "      <td>188</td>\n",
       "      <td>Social</td>\n",
       "      <td>0.814969</td>\n",
       "    </tr>\n",
       "    <tr>\n",
       "      <th>17409</th>\n",
       "      <td>the american stock exchange said it has introd...</td>\n",
       "      <td>\"NORM\"</td>\n",
       "      <td>american exchange introduces institutional index</td>\n",
       "      <td>160</td>\n",
       "      <td>None</td>\n",
       "      <td>0.977530</td>\n",
       "    </tr>\n",
       "  </tbody>\n",
       "</table>\n",
       "<p>17410 rows × 6 columns</p>\n",
       "</div>"
      ],
      "text/plain": [
       "                                                    text text_type  \\\n",
       "0      showers continued throughout the week in the b...    \"NORM\"   \n",
       "1      standard oil co and bp north america inc said ...    \"NORM\"   \n",
       "2      texas commerce bancshares inc's texas commerce...    \"NORM\"   \n",
       "3      bankamerica corp is not under pressure to act ...    \"NORM\"   \n",
       "4      the u.s. agriculture department reported the f...    \"NORM\"   \n",
       "...                                                  ...       ...   \n",
       "17405  the japan/india-pakistan-gulf/japan shipping c...    \"NORM\"   \n",
       "17406  the soviet union's industrial output is growin...    \"NORM\"   \n",
       "17407  six black miners have been killed and two inju...    \"NORM\"   \n",
       "17408  the prospect of a dominant alliance of sociali...    \"NORM\"   \n",
       "17409  the american stock exchange said it has introd...    \"NORM\"   \n",
       "\n",
       "                                                   title  text_wc  \\\n",
       "0                                     bahia cocoa review      497   \n",
       "1                    standard oil to form financial unit       74   \n",
       "2                   texas commerce bancshares files plan       58   \n",
       "3                 talking point/bankamerica equity offer      466   \n",
       "4       national average prices for farmer-owned reserve      466   \n",
       "...                                                  ...      ...   \n",
       "17405  japan/india conference cuts gulf war risk charges       74   \n",
       "17406      soviet industrial growth/trade slower in 1987      346   \n",
       "17407     six killed in south african gold mine accident       76   \n",
       "17408   projections show swiss voters want tried parties      188   \n",
       "17409   american exchange introduces institutional index      160   \n",
       "\n",
       "           esg_label  esg_score  \n",
       "0      Environmental   0.612098  \n",
       "1               None   0.986776  \n",
       "2               None   0.960852  \n",
       "3               None   0.989025  \n",
       "4               None   0.963944  \n",
       "...              ...        ...  \n",
       "17405         Social   0.476759  \n",
       "17406           None   0.991287  \n",
       "17407           None   0.740564  \n",
       "17408         Social   0.814969  \n",
       "17409           None   0.977530  \n",
       "\n",
       "[17410 rows x 6 columns]"
      ]
     },
     "execution_count": 140,
     "metadata": {},
     "output_type": "execute_result"
    }
   ],
   "source": [
    "df"
   ]
  },
  {
   "cell_type": "code",
   "execution_count": 137,
   "metadata": {},
   "outputs": [
    {
     "name": "stdout",
     "output_type": "stream",
     "text": [
      "There are 2741 augmented news.\n"
     ]
    },
    {
     "data": {
      "text/html": [
       "<div>\n",
       "<style scoped>\n",
       "    .dataframe tbody tr th:only-of-type {\n",
       "        vertical-align: middle;\n",
       "    }\n",
       "\n",
       "    .dataframe tbody tr th {\n",
       "        vertical-align: top;\n",
       "    }\n",
       "\n",
       "    .dataframe thead th {\n",
       "        text-align: right;\n",
       "    }\n",
       "</style>\n",
       "<table border=\"1\" class=\"dataframe\">\n",
       "  <thead>\n",
       "    <tr style=\"text-align: right;\">\n",
       "      <th></th>\n",
       "      <th>count</th>\n",
       "      <th>mean</th>\n",
       "      <th>std</th>\n",
       "      <th>min</th>\n",
       "      <th>25%</th>\n",
       "      <th>50%</th>\n",
       "      <th>75%</th>\n",
       "      <th>max</th>\n",
       "    </tr>\n",
       "    <tr>\n",
       "      <th>esg_label</th>\n",
       "      <th></th>\n",
       "      <th></th>\n",
       "      <th></th>\n",
       "      <th></th>\n",
       "      <th></th>\n",
       "      <th></th>\n",
       "      <th></th>\n",
       "      <th></th>\n",
       "    </tr>\n",
       "  </thead>\n",
       "  <tbody>\n",
       "    <tr>\n",
       "      <th>Environmental</th>\n",
       "      <td>393.0</td>\n",
       "      <td>0.775998</td>\n",
       "      <td>0.149653</td>\n",
       "      <td>0.504137</td>\n",
       "      <td>0.649648</td>\n",
       "      <td>0.783682</td>\n",
       "      <td>0.919137</td>\n",
       "      <td>0.991086</td>\n",
       "    </tr>\n",
       "    <tr>\n",
       "      <th>Governance</th>\n",
       "      <td>40.0</td>\n",
       "      <td>0.611769</td>\n",
       "      <td>0.084351</td>\n",
       "      <td>0.503932</td>\n",
       "      <td>0.543160</td>\n",
       "      <td>0.595629</td>\n",
       "      <td>0.662771</td>\n",
       "      <td>0.830855</td>\n",
       "    </tr>\n",
       "    <tr>\n",
       "      <th>Social</th>\n",
       "      <td>2308.0</td>\n",
       "      <td>0.786391</td>\n",
       "      <td>0.145179</td>\n",
       "      <td>0.501986</td>\n",
       "      <td>0.659425</td>\n",
       "      <td>0.811584</td>\n",
       "      <td>0.922440</td>\n",
       "      <td>0.988577</td>\n",
       "    </tr>\n",
       "  </tbody>\n",
       "</table>\n",
       "</div>"
      ],
      "text/plain": [
       "                count      mean       std       min       25%       50%  \\\n",
       "esg_label                                                                 \n",
       "Environmental   393.0  0.775998  0.149653  0.504137  0.649648  0.783682   \n",
       "Governance       40.0  0.611769  0.084351  0.503932  0.543160  0.595629   \n",
       "Social         2308.0  0.786391  0.145179  0.501986  0.659425  0.811584   \n",
       "\n",
       "                    75%       max  \n",
       "esg_label                          \n",
       "Environmental  0.919137  0.991086  \n",
       "Governance     0.662771  0.830855  \n",
       "Social         0.922440  0.988577  "
      ]
     },
     "execution_count": 137,
     "metadata": {},
     "output_type": "execute_result"
    }
   ],
   "source": [
    "df = df[(df[\"esg_label\"] != \"None\") & (df[\"esg_score\"] > 0.5)]\n",
    "print(f\"There are {len(df)} augmented news.\")\n",
    "# df = df[~((df[\"esg_label\"] == \"Social\") & (df[\"esg_score\"] < 0.8))]\n",
    "df.groupby(\"esg_label\")[\"esg_score\"].describe()"
   ]
  },
  {
   "cell_type": "code",
   "execution_count": 138,
   "metadata": {},
   "outputs": [],
   "source": [
    "df.to_parquet(\"../dataset/temp_reuter_filtered.parquet\")"
   ]
  },
  {
   "attachments": {},
   "cell_type": "markdown",
   "metadata": {},
   "source": [
    "### Use GPT 4 to further filter related news"
   ]
  },
  {
   "cell_type": "code",
   "execution_count": 141,
   "metadata": {},
   "outputs": [],
   "source": [
    "from openai import OpenAI\n",
    "\n",
    "client = OpenAI()"
   ]
  },
  {
   "cell_type": "code",
   "execution_count": 142,
   "metadata": {},
   "outputs": [],
   "source": [
    "template = \"\"\"\n",
    "Given the following news, output -1 if the news is not related to ESG (environmental, social, and governance) and won't have any ESG impact. Output 0 if the ESG impact duration is below 2 years, 1 if the ESG impact duration is between 2 and 5 year and 2 if the ESG impact duration is more than 5 years. You only need to output the number, and do not need any further explanation.\n",
    "\n",
    "News:\"\"\""
   ]
  },
  {
   "cell_type": "code",
   "execution_count": 52,
   "metadata": {},
   "outputs": [],
   "source": [
    "def generate_gpt_label(sentence, model):\n",
    "    content = template + sentence\n",
    "    \n",
    "    conversation = [\n",
    "            {\"role\": \"system\", \"content\": \"You are an ESG analyst, skilled assessing the level and duration an event in the news article might have on the company\"},\n",
    "            {\"role\": \"user\", \"content\": content}\n",
    "        ]\n",
    "    \n",
    "    completion = client.chat.completions.create(\n",
    "        model=model,\n",
    "        messages=conversation,\n",
    "        temperature=0.7\n",
    "    )\n",
    "    \n",
    "    message = completion.choices[0].message.content\n",
    "    \n",
    "    try:\n",
    "        return int(message)\n",
    "    except:\n",
    "        return None\n",
    "\n",
    "df[\"gpt_4_label\"] = df[\"text\"].apply(lambda x: generate_gpt_label(x, \"gpt-4\"))"
   ]
  },
  {
   "cell_type": "code",
   "execution_count": 124,
   "metadata": {},
   "outputs": [
    {
     "ename": "OSError",
     "evalue": "Cannot save file into a non-existent directory: 'dataset'",
     "output_type": "error",
     "traceback": [
      "\u001b[0;31m---------------------------------------------------------------------------\u001b[0m",
      "\u001b[0;31mOSError\u001b[0m                                   Traceback (most recent call last)",
      "Cell \u001b[0;32mIn[124], line 1\u001b[0m\n\u001b[0;32m----> 1\u001b[0m df\u001b[39m.\u001b[39;49mto_parquet(\u001b[39m\"\u001b[39;49m\u001b[39mdataset/temp_reuter_openai_filtered.parquet\u001b[39;49m\u001b[39m\"\u001b[39;49m)\n",
      "File \u001b[0;32m~/miniconda3/envs/torch/lib/python3.9/site-packages/pandas/core/frame.py:2970\u001b[0m, in \u001b[0;36mDataFrame.to_parquet\u001b[0;34m(self, path, engine, compression, index, partition_cols, storage_options, **kwargs)\u001b[0m\n\u001b[1;32m   2882\u001b[0m \u001b[39m\u001b[39m\u001b[39m\"\"\"\u001b[39;00m\n\u001b[1;32m   2883\u001b[0m \u001b[39mWrite a DataFrame to the binary parquet format.\u001b[39;00m\n\u001b[1;32m   2884\u001b[0m \n\u001b[0;32m   (...)\u001b[0m\n\u001b[1;32m   2966\u001b[0m \u001b[39m>>> content = f.read()\u001b[39;00m\n\u001b[1;32m   2967\u001b[0m \u001b[39m\"\"\"\u001b[39;00m\n\u001b[1;32m   2968\u001b[0m \u001b[39mfrom\u001b[39;00m \u001b[39mpandas\u001b[39;00m\u001b[39m.\u001b[39;00m\u001b[39mio\u001b[39;00m\u001b[39m.\u001b[39;00m\u001b[39mparquet\u001b[39;00m \u001b[39mimport\u001b[39;00m to_parquet\n\u001b[0;32m-> 2970\u001b[0m \u001b[39mreturn\u001b[39;00m to_parquet(\n\u001b[1;32m   2971\u001b[0m     \u001b[39mself\u001b[39;49m,\n\u001b[1;32m   2972\u001b[0m     path,\n\u001b[1;32m   2973\u001b[0m     engine,\n\u001b[1;32m   2974\u001b[0m     compression\u001b[39m=\u001b[39;49mcompression,\n\u001b[1;32m   2975\u001b[0m     index\u001b[39m=\u001b[39;49mindex,\n\u001b[1;32m   2976\u001b[0m     partition_cols\u001b[39m=\u001b[39;49mpartition_cols,\n\u001b[1;32m   2977\u001b[0m     storage_options\u001b[39m=\u001b[39;49mstorage_options,\n\u001b[1;32m   2978\u001b[0m     \u001b[39m*\u001b[39;49m\u001b[39m*\u001b[39;49mkwargs,\n\u001b[1;32m   2979\u001b[0m )\n",
      "File \u001b[0;32m~/miniconda3/envs/torch/lib/python3.9/site-packages/pandas/io/parquet.py:483\u001b[0m, in \u001b[0;36mto_parquet\u001b[0;34m(df, path, engine, compression, index, storage_options, partition_cols, filesystem, **kwargs)\u001b[0m\n\u001b[1;32m    479\u001b[0m impl \u001b[39m=\u001b[39m get_engine(engine)\n\u001b[1;32m    481\u001b[0m path_or_buf: FilePath \u001b[39m|\u001b[39m WriteBuffer[\u001b[39mbytes\u001b[39m] \u001b[39m=\u001b[39m io\u001b[39m.\u001b[39mBytesIO() \u001b[39mif\u001b[39;00m path \u001b[39mis\u001b[39;00m \u001b[39mNone\u001b[39;00m \u001b[39melse\u001b[39;00m path\n\u001b[0;32m--> 483\u001b[0m impl\u001b[39m.\u001b[39;49mwrite(\n\u001b[1;32m    484\u001b[0m     df,\n\u001b[1;32m    485\u001b[0m     path_or_buf,\n\u001b[1;32m    486\u001b[0m     compression\u001b[39m=\u001b[39;49mcompression,\n\u001b[1;32m    487\u001b[0m     index\u001b[39m=\u001b[39;49mindex,\n\u001b[1;32m    488\u001b[0m     partition_cols\u001b[39m=\u001b[39;49mpartition_cols,\n\u001b[1;32m    489\u001b[0m     storage_options\u001b[39m=\u001b[39;49mstorage_options,\n\u001b[1;32m    490\u001b[0m     filesystem\u001b[39m=\u001b[39;49mfilesystem,\n\u001b[1;32m    491\u001b[0m     \u001b[39m*\u001b[39;49m\u001b[39m*\u001b[39;49mkwargs,\n\u001b[1;32m    492\u001b[0m )\n\u001b[1;32m    494\u001b[0m \u001b[39mif\u001b[39;00m path \u001b[39mis\u001b[39;00m \u001b[39mNone\u001b[39;00m:\n\u001b[1;32m    495\u001b[0m     \u001b[39massert\u001b[39;00m \u001b[39misinstance\u001b[39m(path_or_buf, io\u001b[39m.\u001b[39mBytesIO)\n",
      "File \u001b[0;32m~/miniconda3/envs/torch/lib/python3.9/site-packages/pandas/io/parquet.py:197\u001b[0m, in \u001b[0;36mPyArrowImpl.write\u001b[0;34m(self, df, path, compression, index, storage_options, partition_cols, filesystem, **kwargs)\u001b[0m\n\u001b[1;32m    194\u001b[0m     merged_metadata \u001b[39m=\u001b[39m {\u001b[39m*\u001b[39m\u001b[39m*\u001b[39mexisting_metadata, \u001b[39m*\u001b[39m\u001b[39m*\u001b[39mdf_metadata}\n\u001b[1;32m    195\u001b[0m     table \u001b[39m=\u001b[39m table\u001b[39m.\u001b[39mreplace_schema_metadata(merged_metadata)\n\u001b[0;32m--> 197\u001b[0m path_or_handle, handles, filesystem \u001b[39m=\u001b[39m _get_path_or_handle(\n\u001b[1;32m    198\u001b[0m     path,\n\u001b[1;32m    199\u001b[0m     filesystem,\n\u001b[1;32m    200\u001b[0m     storage_options\u001b[39m=\u001b[39;49mstorage_options,\n\u001b[1;32m    201\u001b[0m     mode\u001b[39m=\u001b[39;49m\u001b[39m\"\u001b[39;49m\u001b[39mwb\u001b[39;49m\u001b[39m\"\u001b[39;49m,\n\u001b[1;32m    202\u001b[0m     is_dir\u001b[39m=\u001b[39;49mpartition_cols \u001b[39mis\u001b[39;49;00m \u001b[39mnot\u001b[39;49;00m \u001b[39mNone\u001b[39;49;00m,\n\u001b[1;32m    203\u001b[0m )\n\u001b[1;32m    204\u001b[0m \u001b[39mif\u001b[39;00m (\n\u001b[1;32m    205\u001b[0m     \u001b[39misinstance\u001b[39m(path_or_handle, io\u001b[39m.\u001b[39mBufferedWriter)\n\u001b[1;32m    206\u001b[0m     \u001b[39mand\u001b[39;00m \u001b[39mhasattr\u001b[39m(path_or_handle, \u001b[39m\"\u001b[39m\u001b[39mname\u001b[39m\u001b[39m\"\u001b[39m)\n\u001b[1;32m    207\u001b[0m     \u001b[39mand\u001b[39;00m \u001b[39misinstance\u001b[39m(path_or_handle\u001b[39m.\u001b[39mname, (\u001b[39mstr\u001b[39m, \u001b[39mbytes\u001b[39m))\n\u001b[1;32m    208\u001b[0m ):\n\u001b[1;32m    209\u001b[0m     path_or_handle \u001b[39m=\u001b[39m path_or_handle\u001b[39m.\u001b[39mname\n",
      "File \u001b[0;32m~/miniconda3/envs/torch/lib/python3.9/site-packages/pandas/io/parquet.py:139\u001b[0m, in \u001b[0;36m_get_path_or_handle\u001b[0;34m(path, fs, storage_options, mode, is_dir)\u001b[0m\n\u001b[1;32m    129\u001b[0m handles \u001b[39m=\u001b[39m \u001b[39mNone\u001b[39;00m\n\u001b[1;32m    130\u001b[0m \u001b[39mif\u001b[39;00m (\n\u001b[1;32m    131\u001b[0m     \u001b[39mnot\u001b[39;00m fs\n\u001b[1;32m    132\u001b[0m     \u001b[39mand\u001b[39;00m \u001b[39mnot\u001b[39;00m is_dir\n\u001b[0;32m   (...)\u001b[0m\n\u001b[1;32m    137\u001b[0m     \u001b[39m# fsspec resources can also point to directories\u001b[39;00m\n\u001b[1;32m    138\u001b[0m     \u001b[39m# this branch is used for example when reading from non-fsspec URLs\u001b[39;00m\n\u001b[0;32m--> 139\u001b[0m     handles \u001b[39m=\u001b[39m get_handle(\n\u001b[1;32m    140\u001b[0m         path_or_handle, mode, is_text\u001b[39m=\u001b[39;49m\u001b[39mFalse\u001b[39;49;00m, storage_options\u001b[39m=\u001b[39;49mstorage_options\n\u001b[1;32m    141\u001b[0m     )\n\u001b[1;32m    142\u001b[0m     fs \u001b[39m=\u001b[39m \u001b[39mNone\u001b[39;00m\n\u001b[1;32m    143\u001b[0m     path_or_handle \u001b[39m=\u001b[39m handles\u001b[39m.\u001b[39mhandle\n",
      "File \u001b[0;32m~/miniconda3/envs/torch/lib/python3.9/site-packages/pandas/io/common.py:739\u001b[0m, in \u001b[0;36mget_handle\u001b[0;34m(path_or_buf, mode, encoding, compression, memory_map, is_text, errors, storage_options)\u001b[0m\n\u001b[1;32m    737\u001b[0m \u001b[39m# Only for write methods\u001b[39;00m\n\u001b[1;32m    738\u001b[0m \u001b[39mif\u001b[39;00m \u001b[39m\"\u001b[39m\u001b[39mr\u001b[39m\u001b[39m\"\u001b[39m \u001b[39mnot\u001b[39;00m \u001b[39min\u001b[39;00m mode \u001b[39mand\u001b[39;00m is_path:\n\u001b[0;32m--> 739\u001b[0m     check_parent_directory(\u001b[39mstr\u001b[39;49m(handle))\n\u001b[1;32m    741\u001b[0m \u001b[39mif\u001b[39;00m compression:\n\u001b[1;32m    742\u001b[0m     \u001b[39mif\u001b[39;00m compression \u001b[39m!=\u001b[39m \u001b[39m\"\u001b[39m\u001b[39mzstd\u001b[39m\u001b[39m\"\u001b[39m:\n\u001b[1;32m    743\u001b[0m         \u001b[39m# compression libraries do not like an explicit text-mode\u001b[39;00m\n",
      "File \u001b[0;32m~/miniconda3/envs/torch/lib/python3.9/site-packages/pandas/io/common.py:604\u001b[0m, in \u001b[0;36mcheck_parent_directory\u001b[0;34m(path)\u001b[0m\n\u001b[1;32m    602\u001b[0m parent \u001b[39m=\u001b[39m Path(path)\u001b[39m.\u001b[39mparent\n\u001b[1;32m    603\u001b[0m \u001b[39mif\u001b[39;00m \u001b[39mnot\u001b[39;00m parent\u001b[39m.\u001b[39mis_dir():\n\u001b[0;32m--> 604\u001b[0m     \u001b[39mraise\u001b[39;00m \u001b[39mOSError\u001b[39;00m(\u001b[39mrf\u001b[39m\u001b[39m\"\u001b[39m\u001b[39mCannot save file into a non-existent directory: \u001b[39m\u001b[39m'\u001b[39m\u001b[39m{\u001b[39;00mparent\u001b[39m}\u001b[39;00m\u001b[39m'\u001b[39m\u001b[39m\"\u001b[39m)\n",
      "\u001b[0;31mOSError\u001b[0m: Cannot save file into a non-existent directory: 'dataset'"
     ]
    }
   ],
   "source": [
    "df.to_parquet(\"dataset/temp_reuter_openai_filtered.parquet\")"
   ]
  },
  {
   "cell_type": "code",
   "execution_count": 90,
   "metadata": {},
   "outputs": [
    {
     "data": {
      "text/plain": [
       "esg_label      gpt_4_label\n",
       "Environmental  -1             10\n",
       "                0              6\n",
       "                1             10\n",
       "                2              2\n",
       "Governance     -1              1\n",
       "                0              1\n",
       "Social         -1             42\n",
       "                0             14\n",
       "                1             10\n",
       "                2              4\n",
       "Name: text, dtype: int64"
      ]
     },
     "execution_count": 90,
     "metadata": {},
     "output_type": "execute_result"
    }
   ],
   "source": [
    "subset_df.groupby([\"esg_label\",\"gpt_4_label\"])[\"text\"].count()"
   ]
  }
 ],
 "metadata": {
  "kernelspec": {
   "display_name": "torch",
   "language": "python",
   "name": "python3"
  },
  "language_info": {
   "codemirror_mode": {
    "name": "ipython",
    "version": 3
   },
   "file_extension": ".py",
   "mimetype": "text/x-python",
   "name": "python",
   "nbconvert_exporter": "python",
   "pygments_lexer": "ipython3",
   "version": "3.9.18"
  },
  "orig_nbformat": 4
 },
 "nbformat": 4,
 "nbformat_minor": 2
}
