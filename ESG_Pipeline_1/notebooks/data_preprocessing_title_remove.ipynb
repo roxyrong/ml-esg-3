{
 "cells": [
  {
   "cell_type": "code",
   "execution_count": 31,
   "metadata": {
    "ExecuteTime": {
     "end_time": "2024-01-20T08:47:04.471539700Z",
     "start_time": "2024-01-20T08:47:04.392957500Z"
    }
   },
   "outputs": [],
   "source": [
    "import pandas as pd\n",
    "import numpy as np\n",
    "import nltk\n",
    "from nltk.tokenize import sent_tokenize\n"
   ]
  },
  {
   "cell_type": "code",
   "execution_count": 32,
   "metadata": {
    "ExecuteTime": {
     "end_time": "2024-01-20T08:47:11.387158700Z",
     "start_time": "2024-01-20T08:47:10.800665900Z"
    }
   },
   "outputs": [],
   "source": [
    "df_English = pd.read_parquet(\"../dataset/train_df_English_translated.parquet\")\n",
    "df_French = pd.read_parquet(\"../dataset/train_df_French_translated.parquet\")\n",
    "df_Korean = pd.read_parquet(\"../dataset/train_df_Korean_translated.parquet\")\n",
    "df_Chinese = pd.read_parquet(\"../dataset/train_df_Chinese_translated.parquet\")"
   ]
  },
  {
   "cell_type": "code",
   "execution_count": 33,
   "metadata": {
    "ExecuteTime": {
     "end_time": "2024-01-20T08:47:11.395680500Z",
     "start_time": "2024-01-20T08:47:11.289683Z"
    }
   },
   "outputs": [],
   "source": [
    "columns = [\"sentence\", \"Translation\", \"impact_length_idx\", \"language\"]"
   ]
  },
  {
   "cell_type": "code",
   "execution_count": 34,
   "metadata": {
    "ExecuteTime": {
     "end_time": "2024-01-20T08:47:11.417731400Z",
     "start_time": "2024-01-20T08:47:11.401181600Z"
    }
   },
   "outputs": [],
   "source": [
    "df_English[\"Translation\"] = df_English[\"sentence\"]\n",
    "df_English = df_English[columns]\n",
    "df_Chinese = df_Chinese[columns]\n",
    "df_Korean = df_Korean[columns]\n",
    "df_French = df_French[columns]"
   ]
  },
  {
   "cell_type": "code",
   "execution_count": 35,
   "metadata": {
    "ExecuteTime": {
     "end_time": "2024-01-20T08:47:11.580104900Z",
     "start_time": "2024-01-20T08:47:11.549517600Z"
    }
   },
   "outputs": [],
   "source": [
    "df = pd.concat([df_English, df_Chinese, df_Korean, df_French]).reset_index(drop=True)"
   ]
  },
  {
   "cell_type": "code",
   "execution_count": 36,
   "metadata": {
    "ExecuteTime": {
     "end_time": "2024-01-20T08:47:13.702083800Z",
     "start_time": "2024-01-20T08:47:12.464508800Z"
    }
   },
   "outputs": [],
   "source": [
    "df.to_parquet(\"../dataset/train_df_all_english.parquet\")"
   ]
  },
  {
   "attachments": {},
   "cell_type": "markdown",
   "metadata": {},
   "source": [
    "# Word Count EDA"
   ]
  },
  {
   "cell_type": "code",
   "execution_count": 37,
   "metadata": {
    "ExecuteTime": {
     "end_time": "2024-01-20T08:47:13.714111200Z",
     "start_time": "2024-01-20T08:47:13.697583100Z"
    }
   },
   "outputs": [],
   "source": [
    "def word_count(text):\n",
    "    return len(text.split(\" \"))"
   ]
  },
  {
   "cell_type": "code",
   "execution_count": 38,
   "metadata": {
    "ExecuteTime": {
     "end_time": "2024-01-20T08:47:13.759038100Z",
     "start_time": "2024-01-20T08:47:13.713106900Z"
    }
   },
   "outputs": [],
   "source": [
    "df[\"wc\"] = df[\"Translation\"].map(word_count)"
   ]
  },
  {
   "cell_type": "code",
   "execution_count": 39,
   "metadata": {
    "ExecuteTime": {
     "end_time": "2024-01-20T08:47:13.785997200Z",
     "start_time": "2024-01-20T08:47:13.760037500Z"
    }
   },
   "outputs": [
    {
     "name": "stderr",
     "output_type": "stream",
     "text": [
      "C:\\Users\\A\\AppData\\Local\\Temp\\ipykernel_2308\\1310294783.py:1: FutureWarning: The provided callable <function mean at 0x00000206DB321D30> is currently using SeriesGroupBy.mean. In a future version of pandas, the provided callable will be used directly. To keep current behavior pass the string \"mean\" instead.\n",
      "  df.groupby(\"language\").agg({\"wc\": np.mean})\n"
     ]
    },
    {
     "data": {
      "text/plain": "                  wc\nlanguage            \nChinese   903.184659\nEnglish    73.864220\nFrench     96.636914\nKorean    555.970000",
      "text/html": "<div>\n<style scoped>\n    .dataframe tbody tr th:only-of-type {\n        vertical-align: middle;\n    }\n\n    .dataframe tbody tr th {\n        vertical-align: top;\n    }\n\n    .dataframe thead th {\n        text-align: right;\n    }\n</style>\n<table border=\"1\" class=\"dataframe\">\n  <thead>\n    <tr style=\"text-align: right;\">\n      <th></th>\n      <th>wc</th>\n    </tr>\n    <tr>\n      <th>language</th>\n      <th></th>\n    </tr>\n  </thead>\n  <tbody>\n    <tr>\n      <th>Chinese</th>\n      <td>903.184659</td>\n    </tr>\n    <tr>\n      <th>English</th>\n      <td>73.864220</td>\n    </tr>\n    <tr>\n      <th>French</th>\n      <td>96.636914</td>\n    </tr>\n    <tr>\n      <th>Korean</th>\n      <td>555.970000</td>\n    </tr>\n  </tbody>\n</table>\n</div>"
     },
     "execution_count": 39,
     "metadata": {},
     "output_type": "execute_result"
    }
   ],
   "source": [
    "df.groupby(\"language\").agg({\"wc\": np.mean})"
   ]
  },
  {
   "attachments": {},
   "cell_type": "markdown",
   "metadata": {},
   "source": [
    "# Preprocess Chinese text"
   ]
  },
  {
   "cell_type": "code",
   "execution_count": 40,
   "metadata": {
    "ExecuteTime": {
     "end_time": "2024-01-20T08:47:14.400078200Z",
     "start_time": "2024-01-20T08:47:14.366478700Z"
    }
   },
   "outputs": [],
   "source": [
    "# filter very short sentences and non-sentences (defined by no . at the end of the sentence)\n",
    "def Chinese_article_preprocess(article):\n",
    "    sentences = article.split(\"\\n\")\n",
    "    filtered_sentences = [text for text in sentences if len(text.split(\" \")) > 5 ]\n",
    "    title = filtered_sentences[0]\n",
    "    filtered_sentences = filtered_sentences[1:]\n",
    "    filtered_sentences = [text for text in filtered_sentences if text[-1] == \".\"]\n",
    "    article = title + \" \" + \" \".join(filtered_sentences)\n",
    "    return article"
   ]
  },
  {
   "cell_type": "code",
   "execution_count": 41,
   "metadata": {
    "ExecuteTime": {
     "end_time": "2024-01-20T08:47:14.979222300Z",
     "start_time": "2024-01-20T08:47:14.940589400Z"
    }
   },
   "outputs": [],
   "source": [
    "df_Chinese[\"processed\"] = df_Chinese[\"Translation\"].map(Chinese_article_preprocess)"
   ]
  },
  {
   "cell_type": "code",
   "execution_count": 42,
   "metadata": {
    "ExecuteTime": {
     "end_time": "2024-01-20T08:47:15.279608500Z",
     "start_time": "2024-01-20T08:47:15.241076700Z"
    }
   },
   "outputs": [
    {
     "name": "stdout",
     "output_type": "stream",
     "text": [
      "749.0795454545455\n"
     ]
    }
   ],
   "source": [
    "# we reduced the average word count from 900 to 750.\n",
    "df_Chinese[\"wc\"] = df_Chinese[\"processed\"].map(word_count)\n",
    "print(np.mean(df_Chinese[\"wc\"]))"
   ]
  },
  {
   "cell_type": "code",
   "execution_count": 43,
   "metadata": {
    "ExecuteTime": {
     "end_time": "2024-01-20T08:47:15.685827100Z",
     "start_time": "2024-01-20T08:47:15.555110900Z"
    }
   },
   "outputs": [],
   "source": [
    "df_Chinese['sentences'] = df_Chinese['processed'].apply(sent_tokenize)\n",
    "\n",
    "def group_sentences(sentences):\n",
    "    return [sentences[i:i+5] for i in range(0, len(sentences), 5)]\n",
    "\n",
    "df_Chinese['grouped_sentences'] = df_Chinese['sentences'].apply(group_sentences)\n",
    "\n",
    "new_df_Chinese = df_Chinese.explode('grouped_sentences')\n",
    "\n",
    "new_df_Chinese[\"grouped_sentences\"] = new_df_Chinese[\"grouped_sentences\"].apply(lambda x: \" \".join(x))"
   ]
  },
  {
   "cell_type": "code",
   "execution_count": 44,
   "metadata": {
    "ExecuteTime": {
     "end_time": "2024-01-20T08:47:15.878596Z",
     "start_time": "2024-01-20T08:47:15.857063600Z"
    }
   },
   "outputs": [
    {
     "name": "stdout",
     "output_type": "stream",
     "text": [
      "352\n",
      "1717\n"
     ]
    }
   ],
   "source": [
    "print(len(df_Chinese))\n",
    "print(len(new_df_Chinese))"
   ]
  },
  {
   "cell_type": "code",
   "execution_count": 45,
   "metadata": {
    "ExecuteTime": {
     "end_time": "2024-01-20T08:47:16.150599500Z",
     "start_time": "2024-01-20T08:47:16.129069100Z"
    }
   },
   "outputs": [
    {
     "name": "stdout",
     "output_type": "stream",
     "text": [
      "153.57483983692487\n"
     ]
    }
   ],
   "source": [
    "new_df_Chinese[\"wc\"] = new_df_Chinese[\"grouped_sentences\"].apply(word_count)\n",
    "print(np.mean(new_df_Chinese[\"wc\"]))"
   ]
  },
  {
   "cell_type": "code",
   "execution_count": 46,
   "metadata": {
    "ExecuteTime": {
     "end_time": "2024-01-20T08:47:16.513200300Z",
     "start_time": "2024-01-20T08:47:16.471556800Z"
    }
   },
   "outputs": [
    {
     "data": {
      "text/plain": "impact_length_idx\n0.0     337\n1.0     315\n2.0    1065\nName: grouped_sentences, dtype: int64"
     },
     "execution_count": 46,
     "metadata": {},
     "output_type": "execute_result"
    }
   ],
   "source": [
    "new_df_Chinese.groupby(\"impact_length_idx\")[\"grouped_sentences\"].count()"
   ]
  },
  {
   "attachments": {},
   "cell_type": "markdown",
   "metadata": {},
   "source": [
    "# Preprocess Korean"
   ]
  },
  {
   "cell_type": "code",
   "execution_count": 47,
   "metadata": {
    "ExecuteTime": {
     "end_time": "2024-01-20T08:47:17.516541900Z",
     "start_time": "2024-01-20T08:47:17.240736700Z"
    }
   },
   "outputs": [],
   "source": [
    "df_Korean['sentences'] = df_Korean['Translation'].apply(sent_tokenize)\n",
    "\n",
    "def group_sentences(sentences):\n",
    "    return [sentences[i:i+5] for i in range(0, len(sentences), 5)]\n",
    "\n",
    "df_Korean['grouped_sentences'] = df_Korean['sentences'].apply(group_sentences)\n",
    "\n",
    "new_df_Korean = df_Korean.explode('grouped_sentences')\n",
    "\n",
    "new_df_Korean[\"grouped_sentences\"] = new_df_Korean[\"grouped_sentences\"].apply(lambda x: \" \".join(x))"
   ]
  },
  {
   "cell_type": "code",
   "execution_count": 48,
   "metadata": {
    "ExecuteTime": {
     "end_time": "2024-01-20T08:47:17.711740400Z",
     "start_time": "2024-01-20T08:47:17.674151500Z"
    }
   },
   "outputs": [
    {
     "name": "stdout",
     "output_type": "stream",
     "text": [
      "121.0954458685574\n"
     ]
    }
   ],
   "source": [
    "new_df_Korean[\"wc\"] = new_df_Korean[\"grouped_sentences\"].apply(word_count)\n",
    "print(np.mean(new_df_Korean[\"wc\"]))"
   ]
  },
  {
   "cell_type": "code",
   "execution_count": 49,
   "metadata": {
    "ExecuteTime": {
     "end_time": "2024-01-20T08:47:18.481641Z",
     "start_time": "2024-01-20T08:47:18.468114600Z"
    }
   },
   "outputs": [
    {
     "name": "stdout",
     "output_type": "stream",
     "text": [
      "800\n",
      "3667\n"
     ]
    }
   ],
   "source": [
    "print(len(df_Korean))\n",
    "print(len(new_df_Korean))"
   ]
  },
  {
   "cell_type": "code",
   "execution_count": 50,
   "metadata": {
    "ExecuteTime": {
     "end_time": "2024-01-20T08:47:20.200179800Z",
     "start_time": "2024-01-20T08:47:20.178636500Z"
    }
   },
   "outputs": [
    {
     "data": {
      "text/plain": "impact_length_idx\n0.0    1971\n1.0     695\n2.0    1001\nName: grouped_sentences, dtype: int64"
     },
     "execution_count": 50,
     "metadata": {},
     "output_type": "execute_result"
    }
   ],
   "source": [
    "new_df_Korean.groupby(\"impact_length_idx\")[\"grouped_sentences\"].count()"
   ]
  },
  {
   "cell_type": "code",
   "execution_count": 51,
   "metadata": {
    "ExecuteTime": {
     "end_time": "2024-01-20T08:47:22.598485100Z",
     "start_time": "2024-01-20T08:47:21.641045100Z"
    }
   },
   "outputs": [],
   "source": [
    "new_df_Korean.to_parquet(\"../dataset/train_df_Korean_translated_segmented.parquet\")\n",
    "new_df_Chinese.to_parquet(\"../dataset/train_df_Chinese_translated_segmented.parquet\")"
   ]
  },
  {
   "cell_type": "code",
   "execution_count": 57,
   "metadata": {
    "ExecuteTime": {
     "end_time": "2024-01-20T08:48:55.297185900Z",
     "start_time": "2024-01-20T08:48:54.813070500Z"
    }
   },
   "outputs": [],
   "source": [
    "df_English = pd.read_parquet(\"../dataset/train_df_English_translated.parquet\")\n",
    "df_French = pd.read_parquet(\"../dataset/train_df_French_translated.parquet\")\n",
    "df_Korean = pd.read_parquet(\"../dataset/train_df_Korean_translated_segmented.parquet\")\n",
    "df_Chinese = pd.read_parquet(\"../dataset/train_df_Chinese_translated_segmented.parquet\")"
   ]
  },
  {
   "cell_type": "code",
   "outputs": [],
   "source": [
    "columns = [\"sentence\", \"Translation\", \"impact_length_idx\", \"language\"]\n",
    "df_English[\"Translation\"] = df_English[\"sentence\"]"
   ],
   "metadata": {
    "collapsed": false,
    "ExecuteTime": {
     "end_time": "2024-01-20T08:48:55.775516Z",
     "start_time": "2024-01-20T08:48:55.762968900Z"
    }
   },
   "execution_count": 58
  },
  {
   "cell_type": "code",
   "outputs": [],
   "source": [
    "df_English = df_English[columns]\n",
    "df_Chinese = df_Chinese[columns]\n",
    "df_Korean = df_Korean[columns]\n",
    "df_French = df_French[columns]"
   ],
   "metadata": {
    "collapsed": false,
    "ExecuteTime": {
     "end_time": "2024-01-20T08:48:56.894015200Z",
     "start_time": "2024-01-20T08:48:56.882989500Z"
    }
   },
   "execution_count": 59
  },
  {
   "cell_type": "code",
   "outputs": [],
   "source": [
    "df = pd.concat([df_English, df_Chinese, df_Korean, df_French]).reset_index(drop=True)"
   ],
   "metadata": {
    "collapsed": false,
    "ExecuteTime": {
     "end_time": "2024-01-20T08:48:57.774939Z",
     "start_time": "2024-01-20T08:48:57.765406900Z"
    }
   },
   "execution_count": 60
  },
  {
   "cell_type": "markdown",
   "source": [
    "## Remove title"
   ],
   "metadata": {
    "collapsed": false
   }
  },
  {
   "cell_type": "code",
   "outputs": [],
   "source": [
    "def title_remove(x):\n",
    "    if \"||\" in x:\n",
    "        return x.split(\"||\")[1]\n",
    "    else:\n",
    "        return x"
   ],
   "metadata": {
    "collapsed": false,
    "ExecuteTime": {
     "end_time": "2024-01-20T08:48:58.336012100Z",
     "start_time": "2024-01-20T08:48:58.326966500Z"
    }
   },
   "execution_count": 61
  },
  {
   "cell_type": "code",
   "outputs": [],
   "source": [
    "df[\"Translation\"] = df[\"Translation\"].apply(lambda x:title_remove(x))"
   ],
   "metadata": {
    "collapsed": false,
    "ExecuteTime": {
     "end_time": "2024-01-20T08:48:58.908186100Z",
     "start_time": "2024-01-20T08:48:58.878618900Z"
    }
   },
   "execution_count": 62
  },
  {
   "cell_type": "code",
   "outputs": [],
   "source": [
    "df.to_parquet(\"../dataset/train_df_all_english_segmented.parquet\")"
   ],
   "metadata": {
    "collapsed": false,
    "ExecuteTime": {
     "end_time": "2024-01-20T08:49:00.632480100Z",
     "start_time": "2024-01-20T08:49:00.129454Z"
    }
   },
   "execution_count": 63
  }
 ],
 "metadata": {
  "kernelspec": {
   "display_name": "torch",
   "language": "python",
   "name": "python3"
  },
  "language_info": {
   "codemirror_mode": {
    "name": "ipython",
    "version": 3
   },
   "file_extension": ".py",
   "mimetype": "text/x-python",
   "name": "python",
   "nbconvert_exporter": "python",
   "pygments_lexer": "ipython3",
   "version": "3.9.18"
  },
  "orig_nbformat": 4
 },
 "nbformat": 4,
 "nbformat_minor": 2
}
