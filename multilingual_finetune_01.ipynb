{
 "cells": [
  {
   "cell_type": "markdown",
   "source": [
    "# Bert Base Multiligual Cased Notebook"
   ],
   "metadata": {
    "collapsed": false
   }
  },
  {
   "cell_type": "code",
   "execution_count": 15,
   "metadata": {
    "ExecuteTime": {
     "end_time": "2024-01-08T13:20:42.964593900Z",
     "start_time": "2024-01-08T13:20:42.823050300Z"
    }
   },
   "outputs": [],
   "source": [
    "import gc\n",
    "import os\n",
    "from dotenv import load_dotenv\n",
    "from random import choices\n",
    "import numpy as np\n",
    "import pandas as pd\n",
    "import seaborn as sns\n",
    "import matplotlib.pyplot as plt\n",
    "import torch\n",
    "from torch.utils.data import DataLoader\n",
    "from torchinfo import summary\n",
    "from transformers import BertForSequenceClassification\n",
    "from transformers import get_linear_schedule_with_warmup\n",
    "from datasets import Dataset, concatenate_datasets\n",
    "from sklearn.metrics import precision_score, recall_score, f1_score, confusion_matrix\n",
    "from transformers import BertTokenizer"
   ]
  },
  {
   "cell_type": "markdown",
   "source": [
    "## Model Preparation"
   ],
   "metadata": {
    "collapsed": false
   }
  },
  {
   "cell_type": "code",
   "outputs": [],
   "source": [
    "device = torch.device(\"cuda\" if torch.cuda.is_available() else \"cpu\")\n",
    "dataset_path = \"Z:/Programing_Space/DataSpell_Workspace/Research_FinMLP Competition/0. Source Data/\""
   ],
   "metadata": {
    "collapsed": false,
    "ExecuteTime": {
     "end_time": "2024-01-08T13:20:42.966594300Z",
     "start_time": "2024-01-08T13:20:42.934908700Z"
    }
   },
   "execution_count": 16
  },
  {
   "cell_type": "code",
   "outputs": [],
   "source": [
    "load_dotenv()\n",
    "HF_TOKEN = os.getenv(\"HF_TOKEN\")"
   ],
   "metadata": {
    "collapsed": false,
    "ExecuteTime": {
     "end_time": "2024-01-08T13:20:43.007662Z",
     "start_time": "2024-01-08T13:20:42.970594700Z"
    }
   },
   "execution_count": 17
  },
  {
   "cell_type": "code",
   "outputs": [
    {
     "name": "stderr",
     "output_type": "stream",
     "text": [
      "Some weights of BertForSequenceClassification were not initialized from the model checkpoint at bert-base-multilingual-cased and are newly initialized: ['classifier.weight', 'classifier.bias']\n",
      "You should probably TRAIN this model on a down-stream task to be able to use it for predictions and inference.\n"
     ]
    },
    {
     "data": {
      "text/plain": "================================================================================\nLayer (type:depth-idx)                                  Param #\n================================================================================\nBertForSequenceClassification                           --\n├─BertModel: 1-1                                        --\n│    └─BertEmbeddings: 2-1                              --\n│    │    └─Embedding: 3-1                              91,812,096\n│    │    └─Embedding: 3-2                              393,216\n│    │    └─Embedding: 3-3                              1,536\n│    │    └─LayerNorm: 3-4                              1,536\n│    │    └─Dropout: 3-5                                --\n│    └─BertEncoder: 2-2                                 --\n│    │    └─ModuleList: 3-6                             85,054,464\n│    └─BertPooler: 2-3                                  --\n│    │    └─Linear: 3-7                                 590,592\n│    │    └─Tanh: 3-8                                   --\n├─Dropout: 1-2                                          --\n├─Linear: 1-3                                           1,538\n================================================================================\nTotal params: 177,854,978\nTrainable params: 177,854,978\nNon-trainable params: 0\n================================================================================"
     },
     "execution_count": 18,
     "metadata": {},
     "output_type": "execute_result"
    }
   ],
   "source": [
    "tokenizer = BertTokenizer.from_pretrained('bert-base-multilingual-cased', token=HF_TOKEN)\n",
    "pretrained = BertForSequenceClassification.from_pretrained(\"bert-base-multilingual-cased\", token=HF_TOKEN).to(device)\n",
    "summary(pretrained)"
   ],
   "metadata": {
    "collapsed": false,
    "ExecuteTime": {
     "end_time": "2024-01-08T13:21:16.545465400Z",
     "start_time": "2024-01-08T13:20:42.995640600Z"
    }
   },
   "execution_count": 18
  },
  {
   "cell_type": "markdown",
   "source": [
    "## Configuration for Layer Freezing"
   ],
   "metadata": {
    "collapsed": false
   }
  },
  {
   "cell_type": "code",
   "outputs": [],
   "source": [
    "# for param in pretrained.parameters():\n",
    "#     param.requires_grad = False\n",
    "\n",
    "# for layer in pretrained.bert.encoder.layer[:6]:\n",
    "#     for param in layer.parameters():\n",
    "#         param.requires_grad = False"
   ],
   "metadata": {
    "collapsed": false,
    "ExecuteTime": {
     "end_time": "2024-01-08T13:21:16.562993700Z",
     "start_time": "2024-01-08T13:21:16.534442200Z"
    }
   },
   "execution_count": 19
  },
  {
   "cell_type": "markdown",
   "source": [
    "## Load & Process dataset"
   ],
   "metadata": {
    "collapsed": false
   }
  },
  {
   "cell_type": "code",
   "outputs": [
    {
     "data": {
      "text/plain": "                                                   url  \\\n545  https://esg.businesstoday.com.tw/article/categ...   \n546  https://esg.businesstoday.com.tw/article/categ...   \n547  https://esg.businesstoday.com.tw/article/categ...   \n548  https://esg.businesstoday.com.tw/article/categ...   \n549  https://esg.businesstoday.com.tw/article/categ...   \n\n                                               title  \\\n545                    老闆本人就是打卡機？比爾蓋茲背下員工車牌，計算每人工作時數   \n546  Mercedes-Maybach也要電動化，全新賓士EQE、AMG首款電動車將齊聚慕尼黑車展！   \n547                     銅板價吸引小資族、送電到你家，光陽掀電動機車霸主卡位戰！   \n548              國際級節能減碳建築地標！陶朱隱園不只是豪宅，屋頂就裝了六台風力發電設備   \n549        台泥 Atlante Co. 獲歐盟基金挹注！建置 215 座歐洲純綠電儲能充電站   \n\n                                               content  impact_length_idx  \\\n545  日期：\\n2022-01-04\\n工作與生活的平衡在現代是所有員工流行且追求的工作模式，但對...                2.0   \n546  日期：\\n2021-09-06\\n兩年前還稱作法蘭克福車展的IAA Mobility，在確定...                0.0   \n547  日期：\\n2021-08-18\\n傳統機車龍頭光陽強勢壓境，企圖以﹁Ionex尊榮換電﹂服務...                0.0   \n548  日期：\\n2021-11-03\\n威京集團今(3)日公布全新的CIS(企業識別系統)，以藍天...                1.0   \n549  日期：\\n2022-09-22\\n台泥今日宣布子公司 NHOA 旗下專責發展電動車快充基礎設...                2.0   \n\n    language                                           sentence  \n545  Chinese  The boss himself is a punch machine?Bill Gates...  \n546  Chinese  Mercedes-Maybach also wants to be electrified....  \n547  Chinese  The price of copper board attracts petty bourg...  \n548  Chinese  International -level energy -saving carbon red...  \n549  Chinese  TSM ATLANTE Co. was noted in the EU Fund!Build...  ",
      "text/html": "<div>\n<style scoped>\n    .dataframe tbody tr th:only-of-type {\n        vertical-align: middle;\n    }\n\n    .dataframe tbody tr th {\n        vertical-align: top;\n    }\n\n    .dataframe thead th {\n        text-align: right;\n    }\n</style>\n<table border=\"1\" class=\"dataframe\">\n  <thead>\n    <tr style=\"text-align: right;\">\n      <th></th>\n      <th>url</th>\n      <th>title</th>\n      <th>content</th>\n      <th>impact_length_idx</th>\n      <th>language</th>\n      <th>sentence</th>\n    </tr>\n  </thead>\n  <tbody>\n    <tr>\n      <th>545</th>\n      <td>https://esg.businesstoday.com.tw/article/categ...</td>\n      <td>老闆本人就是打卡機？比爾蓋茲背下員工車牌，計算每人工作時數</td>\n      <td>日期：\\n2022-01-04\\n工作與生活的平衡在現代是所有員工流行且追求的工作模式，但對...</td>\n      <td>2.0</td>\n      <td>Chinese</td>\n      <td>The boss himself is a punch machine?Bill Gates...</td>\n    </tr>\n    <tr>\n      <th>546</th>\n      <td>https://esg.businesstoday.com.tw/article/categ...</td>\n      <td>Mercedes-Maybach也要電動化，全新賓士EQE、AMG首款電動車將齊聚慕尼黑車展！</td>\n      <td>日期：\\n2021-09-06\\n兩年前還稱作法蘭克福車展的IAA Mobility，在確定...</td>\n      <td>0.0</td>\n      <td>Chinese</td>\n      <td>Mercedes-Maybach also wants to be electrified....</td>\n    </tr>\n    <tr>\n      <th>547</th>\n      <td>https://esg.businesstoday.com.tw/article/categ...</td>\n      <td>銅板價吸引小資族、送電到你家，光陽掀電動機車霸主卡位戰！</td>\n      <td>日期：\\n2021-08-18\\n傳統機車龍頭光陽強勢壓境，企圖以﹁Ionex尊榮換電﹂服務...</td>\n      <td>0.0</td>\n      <td>Chinese</td>\n      <td>The price of copper board attracts petty bourg...</td>\n    </tr>\n    <tr>\n      <th>548</th>\n      <td>https://esg.businesstoday.com.tw/article/categ...</td>\n      <td>國際級節能減碳建築地標！陶朱隱園不只是豪宅，屋頂就裝了六台風力發電設備</td>\n      <td>日期：\\n2021-11-03\\n威京集團今(3)日公布全新的CIS(企業識別系統)，以藍天...</td>\n      <td>1.0</td>\n      <td>Chinese</td>\n      <td>International -level energy -saving carbon red...</td>\n    </tr>\n    <tr>\n      <th>549</th>\n      <td>https://esg.businesstoday.com.tw/article/categ...</td>\n      <td>台泥 Atlante Co. 獲歐盟基金挹注！建置 215 座歐洲純綠電儲能充電站</td>\n      <td>日期：\\n2022-09-22\\n台泥今日宣布子公司 NHOA 旗下專責發展電動車快充基礎設...</td>\n      <td>2.0</td>\n      <td>Chinese</td>\n      <td>TSM ATLANTE Co. was noted in the EU Fund!Build...</td>\n    </tr>\n  </tbody>\n</table>\n</div>"
     },
     "execution_count": 20,
     "metadata": {},
     "output_type": "execute_result"
    }
   ],
   "source": [
    "chn_dataset = pd.read_parquet(dataset_path+\"train_df_Chinese_translated.parquet\")\n",
    "eng_dataset = pd.read_parquet(dataset_path+\"train_df_English_translated.parquet\")\n",
    "fre_dataset = pd.read_parquet(dataset_path+\"train_df_French_translated.parquet\")\n",
    "kor_dataset = pd.read_parquet(dataset_path+\"train_df_Korean_translated.parquet\")\n",
    "del chn_dataset[\"sentence_ch\"]\n",
    "eng_dataset[\"Translation\"] = eng_dataset[\"sentence\"]\n",
    "dataset = pd.concat([chn_dataset,eng_dataset,fre_dataset,kor_dataset])\n",
    "dataset[\"sentence\"] = dataset[\"Translation\"]\n",
    "del dataset[\"Translation\"]\n",
    "dataset.head(5)"
   ],
   "metadata": {
    "collapsed": false,
    "ExecuteTime": {
     "end_time": "2024-01-08T13:21:16.833118300Z",
     "start_time": "2024-01-08T13:21:16.550966400Z"
    }
   },
   "execution_count": 20
  },
  {
   "cell_type": "code",
   "outputs": [],
   "source": [
    "dataset[\"stratified_col\"] = dataset[\"impact_length_idx\"].astype(str) + dataset[\"language\"] # for train/test split\n",
    "dataset[\"resample_col\"] = dataset[\"stratified_col\"] # for resampling\n",
    "esg_dataset = Dataset.from_pandas(dataset, preserve_index=True)"
   ],
   "metadata": {
    "collapsed": false,
    "ExecuteTime": {
     "end_time": "2024-01-08T13:21:17.004648900Z",
     "start_time": "2024-01-08T13:21:16.829090900Z"
    }
   },
   "execution_count": 21
  },
  {
   "cell_type": "code",
   "outputs": [
    {
     "data": {
      "text/plain": "Stringifying the column:   0%|          | 0/2358 [00:00<?, ? examples/s]",
      "application/vnd.jupyter.widget-view+json": {
       "version_major": 2,
       "version_minor": 0,
       "model_id": "d93a0c445f2b4d86ad1e3b7a2c509f11"
      }
     },
     "metadata": {},
     "output_type": "display_data"
    },
    {
     "data": {
      "text/plain": "Casting to class labels:   0%|          | 0/2358 [00:00<?, ? examples/s]",
      "application/vnd.jupyter.widget-view+json": {
       "version_major": 2,
       "version_minor": 0,
       "model_id": "d898060d00ce412c8049dae906d17a56"
      }
     },
     "metadata": {},
     "output_type": "display_data"
    },
    {
     "data": {
      "text/plain": "Casting to class labels:   0%|          | 0/2358 [00:00<?, ? examples/s]",
      "application/vnd.jupyter.widget-view+json": {
       "version_major": 2,
       "version_minor": 0,
       "model_id": "3a09210fc99445649c9c7beea7810d07"
      }
     },
     "metadata": {},
     "output_type": "display_data"
    }
   ],
   "source": [
    "esg_dataset = esg_dataset.class_encode_column(\"impact_length_idx\") # encode label\n",
    "train_valid = esg_dataset.class_encode_column(\"stratified_col\").train_test_split(test_size=0.25, stratify_by_column=\"stratified_col\")\n",
    "train_dataset = train_valid[\"train\"]\n",
    "valid_dataset = train_valid[\"test\"]"
   ],
   "metadata": {
    "collapsed": false,
    "ExecuteTime": {
     "end_time": "2024-01-08T13:21:17.012150400Z",
     "start_time": "2024-01-08T13:21:16.921536600Z"
    }
   },
   "execution_count": 22
  },
  {
   "cell_type": "code",
   "outputs": [
    {
     "data": {
      "text/plain": "Filter:   0%|          | 0/1768 [00:00<?, ? examples/s]",
      "application/vnd.jupyter.widget-view+json": {
       "version_major": 2,
       "version_minor": 0,
       "model_id": "4a667508491047538662d8adf84eb3e8"
      }
     },
     "metadata": {},
     "output_type": "display_data"
    },
    {
     "data": {
      "text/plain": "Filter:   0%|          | 0/1768 [00:00<?, ? examples/s]",
      "application/vnd.jupyter.widget-view+json": {
       "version_major": 2,
       "version_minor": 0,
       "model_id": "9c746806a1d644cf98d224ca335cd989"
      }
     },
     "metadata": {},
     "output_type": "display_data"
    },
    {
     "data": {
      "text/plain": "Filter:   0%|          | 0/1768 [00:00<?, ? examples/s]",
      "application/vnd.jupyter.widget-view+json": {
       "version_major": 2,
       "version_minor": 0,
       "model_id": "526ac6aab5274d3594fbc9420459704b"
      }
     },
     "metadata": {},
     "output_type": "display_data"
    },
    {
     "data": {
      "text/plain": "Filter:   0%|          | 0/1768 [00:00<?, ? examples/s]",
      "application/vnd.jupyter.widget-view+json": {
       "version_major": 2,
       "version_minor": 0,
       "model_id": "0417ebc8141941f7854613e8fe4e2403"
      }
     },
     "metadata": {},
     "output_type": "display_data"
    },
    {
     "data": {
      "text/plain": "Filter:   0%|          | 0/1768 [00:00<?, ? examples/s]",
      "application/vnd.jupyter.widget-view+json": {
       "version_major": 2,
       "version_minor": 0,
       "model_id": "ddc60fbfd6b4415a9e20146edd25eeb6"
      }
     },
     "metadata": {},
     "output_type": "display_data"
    },
    {
     "data": {
      "text/plain": "Filter:   0%|          | 0/1768 [00:00<?, ? examples/s]",
      "application/vnd.jupyter.widget-view+json": {
       "version_major": 2,
       "version_minor": 0,
       "model_id": "0cae6751f57f4eb4974934f21ccc325f"
      }
     },
     "metadata": {},
     "output_type": "display_data"
    },
    {
     "data": {
      "text/plain": "Filter:   0%|          | 0/1768 [00:00<?, ? examples/s]",
      "application/vnd.jupyter.widget-view+json": {
       "version_major": 2,
       "version_minor": 0,
       "model_id": "f9c3df1928c949bf98088d132c3c462a"
      }
     },
     "metadata": {},
     "output_type": "display_data"
    },
    {
     "data": {
      "text/plain": "Filter:   0%|          | 0/1768 [00:00<?, ? examples/s]",
      "application/vnd.jupyter.widget-view+json": {
       "version_major": 2,
       "version_minor": 0,
       "model_id": "e604989fc7134029a773814e3da828fc"
      }
     },
     "metadata": {},
     "output_type": "display_data"
    },
    {
     "data": {
      "text/plain": "Filter:   0%|          | 0/1768 [00:00<?, ? examples/s]",
      "application/vnd.jupyter.widget-view+json": {
       "version_major": 2,
       "version_minor": 0,
       "model_id": "b7f80250b2bc46e3bf941aa6e248d619"
      }
     },
     "metadata": {},
     "output_type": "display_data"
    },
    {
     "data": {
      "text/plain": "Filter:   0%|          | 0/1768 [00:00<?, ? examples/s]",
      "application/vnd.jupyter.widget-view+json": {
       "version_major": 2,
       "version_minor": 0,
       "model_id": "f19ee98bdd9f488f80354c2d3938d6f2"
      }
     },
     "metadata": {},
     "output_type": "display_data"
    },
    {
     "data": {
      "text/plain": "Filter:   0%|          | 0/1768 [00:00<?, ? examples/s]",
      "application/vnd.jupyter.widget-view+json": {
       "version_major": 2,
       "version_minor": 0,
       "model_id": "493bc512036d4b59931fe010056eccc3"
      }
     },
     "metadata": {},
     "output_type": "display_data"
    },
    {
     "data": {
      "text/plain": "Filter:   0%|          | 0/1768 [00:00<?, ? examples/s]",
      "application/vnd.jupyter.widget-view+json": {
       "version_major": 2,
       "version_minor": 0,
       "model_id": "0aa078f9d7a6487db3741e64af75af68"
      }
     },
     "metadata": {},
     "output_type": "display_data"
    }
   ],
   "source": [
    "train_idx = sorted(train_dataset['__index_level_0__'])\n",
    "class_counts = dataset.loc[train_idx]['resample_col'].value_counts()\n",
    "majority_class = class_counts.idxmax()\n",
    "majority_count = class_counts.max()\n",
    "\n",
    "def upsample(dataset, majority_class, majority_count):\n",
    "    # upsample every class to the same size of majority class\n",
    "    upsampled_datasets = []\n",
    "\n",
    "    for class_label in set(dataset['resample_col']):\n",
    "        class_dataset = dataset.filter(lambda x: x[\"resample_col\"] == class_label)\n",
    "\n",
    "        if majority_class == class_label:\n",
    "            upsampled_datasets.append(class_dataset)\n",
    "        else:\n",
    "            upsampled = class_dataset.select(choices(range(len(class_dataset)), k=majority_count))\n",
    "            upsampled_datasets.append(upsampled)\n",
    "\n",
    "    return concatenate_datasets(upsampled_datasets)\n",
    "\n",
    "resampled_train = upsample(train_dataset, majority_class,majority_count)"
   ],
   "metadata": {
    "collapsed": false,
    "ExecuteTime": {
     "end_time": "2024-01-08T13:21:17.822039100Z",
     "start_time": "2024-01-08T13:21:16.998130200Z"
    }
   },
   "execution_count": 23
  },
  {
   "cell_type": "code",
   "execution_count": 24,
   "metadata": {
    "ExecuteTime": {
     "end_time": "2024-01-08T13:21:17.840600600Z",
     "start_time": "2024-01-08T13:21:17.822039100Z"
    }
   },
   "outputs": [],
   "source": [
    "def collate_fn(data):\n",
    "    sentences = [i[\"sentence\"] for i in data]\n",
    "    labels = torch.tensor([i[\"impact_length_idx\"] for i in data]).to(device)\n",
    "\n",
    "    data = tokenizer.batch_encode_plus(sentences,\n",
    "                                       truncation=True,\n",
    "                                       padding='max_length',\n",
    "                                       max_length=400,\n",
    "                                       return_tensors='pt',\n",
    "                                       return_length=True)\n",
    "\n",
    "    input_ids = data['input_ids'].to(device)\n",
    "    attention_mask = data['attention_mask'].to(device)\n",
    "    token_type_ids = data['token_type_ids'].to(device)\n",
    "\n",
    "    return input_ids, attention_mask, token_type_ids, labels\n",
    "\n",
    "train_loader = torch.utils.data.DataLoader(dataset=resampled_train,\n",
    "                                    batch_size=16,\n",
    "                                    collate_fn=collate_fn,\n",
    "                                    shuffle=True,\n",
    "                                    drop_last=True)\n",
    "\n",
    "loader_valid = torch.utils.data.DataLoader(dataset=valid_dataset,\n",
    "                                            batch_size=16,\n",
    "                                            collate_fn=collate_fn,\n",
    "                                            shuffle=True,\n",
    "                                            drop_last=True)"
   ]
  },
  {
   "cell_type": "code",
   "execution_count": 25,
   "metadata": {
    "ExecuteTime": {
     "end_time": "2024-01-08T13:21:17.877813500Z",
     "start_time": "2024-01-08T13:21:17.840098400Z"
    }
   },
   "outputs": [],
   "source": [
    "class Model(torch.nn.Module):\n",
    "    def __init__(self):\n",
    "        super().__init__()\n",
    "        self.fc1 = torch.nn.Linear(768, 384).to(device)\n",
    "        self.fc2 = torch.nn.Linear(384, 192).to(device)\n",
    "        self.fc3 = torch.nn.Linear(192, 3).to(device)\n",
    "        self.dropout = torch.nn.Dropout(0.1)\n",
    "        self.activation = torch.nn.LeakyReLU()\n",
    "        # print(summary(self.fc))\n",
    "\n",
    "    def forward(self, input_ids, attention_mask, token_type_ids):\n",
    "        out = pretrained(input_ids=input_ids,\n",
    "                    attention_mask=attention_mask,\n",
    "                    token_type_ids=token_type_ids,\n",
    "                    output_hidden_states=True)\n",
    "        \n",
    "        \n",
    "        \n",
    "        out = self.fc1(out[\"hidden_states\"][-1][:, 0])\n",
    "        out = self.activation(out)\n",
    "        out = self.dropout(out)\n",
    "        out = self.fc2(out)\n",
    "        out = self.activation(out)\n",
    "        out = self.fc3(out)\n",
    "\n",
    "\n",
    "        out = out.softmax(dim=1)\n",
    "\n",
    "        return out\n",
    "\n",
    "model = Model()"
   ]
  },
  {
   "cell_type": "code",
   "outputs": [],
   "source": [
    "#5e^4, 0.01\n",
    "criterion = torch.nn.CrossEntropyLoss()\n",
    "num_epochs = 3\n",
    "optimizer = torch.optim.Adamax(model.parameters(),\n",
    "                              lr=1e-4,\n",
    "                              weight_decay=0.01)\n",
    "# Total number of training steps\n",
    "num_training_steps = num_epochs * len(train_loader)\n",
    "# Scheduler including warm-up\n",
    "scheduler = get_linear_schedule_with_warmup(optimizer,\n",
    "                                            num_warmup_steps=num_training_steps * 0.1,\n",
    "                                            num_training_steps=num_training_steps)"
   ],
   "metadata": {
    "collapsed": false,
    "ExecuteTime": {
     "end_time": "2024-01-08T13:21:17.894855600Z",
     "start_time": "2024-01-08T13:21:17.870206400Z"
    }
   },
   "execution_count": 26
  },
  {
   "cell_type": "code",
   "execution_count": 27,
   "metadata": {
    "ExecuteTime": {
     "end_time": "2024-01-08T13:27:31.334705400Z",
     "start_time": "2024-01-08T13:21:17.887333Z"
    }
   },
   "outputs": [
    {
     "name": "stdout",
     "output_type": "stream",
     "text": [
      "Starting epoch 1/3\n",
      "Epoch 1/3, Step 0, Loss: 1.0978553295135498, Accuracy: 0.375\n",
      "Epoch 1/3, Step 25, Loss: 1.1043097972869873, Accuracy: 0.125\n",
      "Epoch 1/3, Step 50, Loss: 1.1013280153274536, Accuracy: 0.25\n",
      "Epoch 1/3, Step 75, Loss: 1.0931768417358398, Accuracy: 0.5\n",
      "Epoch 1/3, Step 100, Loss: 1.0919073820114136, Accuracy: 0.5\n",
      "Epoch 1/3, Step 125, Loss: 1.1010546684265137, Accuracy: 0.3125\n",
      "Epoch 1/3, Step 150, Loss: 1.0973312854766846, Accuracy: 0.4375\n",
      "Epoch 1/3, Step 175, Loss: 1.1009631156921387, Accuracy: 0.3125\n",
      "Epoch 1/3, Step 200, Loss: 1.0965876579284668, Accuracy: 0.3125\n",
      "Epoch 1/3, Step 225, Loss: 1.0973631143569946, Accuracy: 0.375\n",
      "epoch valid accuracy: 0.3125\n",
      "Starting epoch 2/3\n",
      "Epoch 2/3, Step 0, Loss: 1.0911701917648315, Accuracy: 0.6875\n",
      "Epoch 2/3, Step 25, Loss: 1.098168134689331, Accuracy: 0.25\n",
      "Epoch 2/3, Step 50, Loss: 1.0941392183303833, Accuracy: 0.625\n",
      "Epoch 2/3, Step 75, Loss: 1.0982029438018799, Accuracy: 0.25\n",
      "Epoch 2/3, Step 100, Loss: 1.0999281406402588, Accuracy: 0.3125\n",
      "Epoch 2/3, Step 125, Loss: 1.0966851711273193, Accuracy: 0.5625\n",
      "Epoch 2/3, Step 150, Loss: 1.0948001146316528, Accuracy: 0.5\n",
      "Epoch 2/3, Step 175, Loss: 1.0964564085006714, Accuracy: 0.3125\n",
      "Epoch 2/3, Step 200, Loss: 1.0930430889129639, Accuracy: 0.5625\n",
      "Epoch 2/3, Step 225, Loss: 1.0924923419952393, Accuracy: 0.6875\n",
      "epoch valid accuracy: 0.4375\n",
      "Starting epoch 3/3\n",
      "Epoch 3/3, Step 0, Loss: 1.0933165550231934, Accuracy: 0.4375\n",
      "Epoch 3/3, Step 25, Loss: 1.0918247699737549, Accuracy: 0.5\n",
      "Epoch 3/3, Step 50, Loss: 1.0945690870285034, Accuracy: 0.375\n",
      "Epoch 3/3, Step 75, Loss: 1.0963064432144165, Accuracy: 0.375\n",
      "Epoch 3/3, Step 100, Loss: 1.097238302230835, Accuracy: 0.3125\n",
      "Epoch 3/3, Step 125, Loss: 1.0902900695800781, Accuracy: 0.6875\n",
      "Epoch 3/3, Step 150, Loss: 1.0917432308197021, Accuracy: 0.5625\n",
      "Epoch 3/3, Step 175, Loss: 1.0995864868164062, Accuracy: 0.3125\n",
      "Epoch 3/3, Step 200, Loss: 1.0956835746765137, Accuracy: 0.4375\n",
      "Epoch 3/3, Step 225, Loss: 1.0950642824172974, Accuracy: 0.5\n",
      "epoch valid accuracy: 0.5625\n"
     ]
    }
   ],
   "source": [
    "for epoch in range(num_epochs):\n",
    "    print(f\"Starting epoch {epoch+1}/{num_epochs}\")\n",
    "    for i, (input_ids, attention_mask, token_type_ids, labels) in enumerate(train_loader):\n",
    "        optimizer.zero_grad()\n",
    "        \n",
    "        out = model(input_ids=input_ids,\n",
    "                    attention_mask=attention_mask,\n",
    "                    token_type_ids=token_type_ids)\n",
    "        \n",
    "        gc.collect()\n",
    "\n",
    "        loss = criterion(out, labels)\n",
    "        loss.backward()\n",
    "        \n",
    "        gc.collect()\n",
    "\n",
    "        \n",
    "        optimizer.step()\n",
    "        scheduler.step()\n",
    "        \n",
    "\n",
    "        if i % 25 == 0:\n",
    "            out = out.argmax(dim=1)\n",
    "            accuracy = (out == labels).sum().item() / len(labels)\n",
    "\n",
    "            print(f\"Epoch {epoch+1}/{num_epochs}, Step {i}, Loss: {loss.item()}, Accuracy: {accuracy}\")\n",
    "        \n",
    "        gc.collect()\n",
    "\n",
    "        \n",
    "    model.eval()\n",
    "    correct = 0\n",
    "    total = 0\n",
    "    with torch.no_grad():\n",
    "        out = model(input_ids=input_ids,\n",
    "                    attention_mask=attention_mask,\n",
    "                    token_type_ids=token_type_ids)\n",
    "\n",
    "    out = out.argmax(dim=1)\n",
    "    correct += (out == labels).sum().item()\n",
    "    total += len(labels)\n",
    "    accuracy = correct / total\n",
    "    \n",
    "    print(\"epoch valid accuracy:\", accuracy)\n",
    "    \n",
    "    gc.collect()\n",
    "        \n",
    "    model.train()"
   ]
  },
  {
   "cell_type": "code",
   "execution_count": 28,
   "metadata": {
    "ExecuteTime": {
     "end_time": "2024-01-08T13:27:37.715630200Z",
     "start_time": "2024-01-08T13:27:31.335205500Z"
    }
   },
   "outputs": [
    {
     "name": "stdout",
     "output_type": "stream",
     "text": [
      "Accuracy: 0.4635416666666667\n",
      "Precision: 0.44685877387931877\n",
      "Recall: 0.4209504059356675\n",
      "F1 Score: 0.4060102198000426\n"
     ]
    },
    {
     "data": {
      "text/plain": "<Figure size 300x300 with 2 Axes>",
      "image/png": "[encoded data removed]"
     },
     "metadata": {},
     "output_type": "display_data"
    }
   ],
   "source": [
    "def test():\n",
    "    model.eval()\n",
    "    correct = 0\n",
    "    total = 0\n",
    "    all_labels = []\n",
    "    all_preds = []\n",
    "\n",
    "    for i, (input_ids, attention_mask, token_type_ids, labels) in enumerate(loader_valid):\n",
    "\n",
    "        with torch.no_grad():\n",
    "            out = model(input_ids=input_ids,\n",
    "                        attention_mask=attention_mask,\n",
    "                        token_type_ids=token_type_ids)\n",
    "\n",
    "        out = out.argmax(dim=1)\n",
    "        correct += (out == labels).sum().item()\n",
    "        total += len(labels)\n",
    "\n",
    "        all_labels.extend(labels.cpu().numpy())\n",
    "        all_preds.extend(out.cpu().numpy())\n",
    "\n",
    "    accuracy = correct / total\n",
    "    precision = precision_score(all_labels, all_preds, average='macro')\n",
    "    recall = recall_score(all_labels, all_preds, average='macro')\n",
    "    f1 = f1_score(all_labels, all_preds, average='macro')\n",
    "\n",
    "    print(f'Accuracy: {accuracy}')\n",
    "    print(f'Precision: {precision}')\n",
    "    print(f'Recall: {recall}')\n",
    "    print(f'F1 Score: {f1}')\n",
    "    \n",
    "    cm = confusion_matrix(all_labels, all_preds)\n",
    "\n",
    "    plt.figure(figsize=(3,3))\n",
    "    sns.heatmap(cm, annot=True, fmt=\"0\", linewidths=.5,\n",
    "                square = True, cmap = \"Blues\")\n",
    "    plt.ylabel(\"Actual label\")\n",
    "    plt.xlabel(\"Predicted label\")\n",
    "    plt.xticks(ticks=np.arange(3) + 0.5, labels=[0, 1, 2], rotation=45, ha='right')\n",
    "    plt.yticks(ticks=np.arange(3) + 0.5, labels=[0, 1, 2], rotation=0)\n",
    "\n",
    "    all_sample_title = \"Confusion Matrix\"\n",
    "    plt.title(all_sample_title, size = 15)\n",
    "\n",
    "test()"
   ]
  },
  {
   "cell_type": "code",
   "outputs": [],
   "source": [],
   "metadata": {
    "collapsed": false,
    "ExecuteTime": {
     "end_time": "2024-01-08T13:27:37.746661200Z",
     "start_time": "2024-01-08T13:27:37.717130900Z"
    }
   },
   "execution_count": 28
  }
 ],
 "metadata": {
  "kernelspec": {
   "display_name": "torch",
   "language": "python",
   "name": "python3"
  },
  "language_info": {
   "codemirror_mode": {
    "name": "ipython",
    "version": 3
   },
   "file_extension": ".py",
   "mimetype": "text/x-python",
   "name": "python",
   "nbconvert_exporter": "python",
   "pygments_lexer": "ipython3",
   "version": "3.9.18"
  },
  "orig_nbformat": 4
 },
 "nbformat": 4,
 "nbformat_minor": 2
}
